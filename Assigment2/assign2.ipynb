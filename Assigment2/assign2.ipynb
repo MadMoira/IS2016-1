{
 "cells": [
  {
   "cell_type": "markdown",
   "metadata": {},
   "source": [
    "# Intelligent Systems Assignment 2\n",
    "\n",
    "## Bayes' net inference\n",
    "\n",
    "**Names:**\n",
    "\n",
    "Alexander Gonzalez Castañeda   -   Camilo Andrés Rodriguez\n",
    "\n",
    "**IDs:**\n",
    "\n",
    "1032452063 - "
   ]
  },
  {
   "cell_type": "code",
   "execution_count": 137,
   "metadata": {
    "collapsed": true
   },
   "outputs": [],
   "source": [
    "class Directions:\n",
    "    NORTH = 'North'\n",
    "    SOUTH = 'South'\n",
    "    EAST = 'East'\n",
    "    WEST = 'West'\n",
    "    STOP = 'Stop'"
   ]
  },
  {
   "cell_type": "markdown",
   "metadata": {},
   "source": [
    "### a. Bayes' net for instant perception and position.\n",
    "\n",
    "Build a Bayes' net that represent the relationships between the random variables. Based on it, write an expression for the joint probability distribution of all the variables.\n",
    "\n",
    "$P(E_{N}, E_{S}, E_{E}, E_{W}, X)=P(E_{N})*P(E_{S}|E_{N})*P(E_{E}|E_{N},E_{S})*P(E_{W}|E_{N},E_{S},E_{E})*P(X|E_{N},E_{S},E_{E},E_{W})$\n",
    "\n",
    "<img src=\"bayesNetA.png\" />\n"
   ]
  },
  {
   "cell_type": "code",
   "execution_count": 138,
   "metadata": {
    "collapsed": false
   },
   "outputs": [],
   "source": [
    "#Joint Probabiity dictionary{ X:[N, S, E, W, P(X,N,S,E,W)]*16 }\n",
    "jointProb = {(x,y):[None]*16 for x in range(1,7) for y in range(1,6)}\n",
    "\n",
    "for table in jointProb.values():\n",
    "    for j in range(0, 16):\n",
    "        table[j] = [0]*5\n",
    "        if j%2==1: table[j][3]=1\n",
    "        if j%4>=2: table[j][2]=1\n",
    "        if j%8>=4: table[j][1]=1\n",
    "        if j%16>=8: table[j][0]=1\n",
    "jointProb[(3,3)][0][4]=1.0/24.0\n",
    "jointProb[(1,3)][1][4]=1.0/24.0\n",
    "jointProb[(6,3)][2][4]=1.0/24.0\n",
    "for x in [(1,4), (3,4), (6,4), (1,2), (3,2), (6,2)]:\n",
    "    jointProb[x][3][4]=1.0/24.0\n",
    "jointProb[(3,1)][4][4]=1.0/24.0\n",
    "jointProb[(1,1)][5][4]=1.0/24.0\n",
    "jointProb[(6,1)][6][4]=1.0/24.0\n",
    "jointProb[(3,5)][8][4]=1.0/24.0\n",
    "jointProb[(1,5)][9][4]=1.0/24.0\n",
    "jointProb[(6,5)][10][4]=1.0/24.0\n",
    "for x in [(2,5), (4,5), (5,5), (2,3), (4,3), (5,3), (2,1), (4,1), (5,1)]:\n",
    "    jointProb[x][12][4]=1.0/24.0"
   ]
  },
  {
   "cell_type": "markdown",
   "metadata": {},
   "source": [
    "### b. Probability functions calculated from the instant model.\n",
    "\n",
    "Assuming an uniform distribution for the Pacman position probability, write functions to calculate the following probabilities:\n",
    "\n",
    "i. $P(X=x|E_{N}=e_{N},E_{S}=e_{S})$"
   ]
  },
  {
   "cell_type": "code",
   "execution_count": 139,
   "metadata": {
    "collapsed": false
   },
   "outputs": [
    {
     "data": {
      "text/plain": [
       "{(1, 1): 0.0,\n",
       " (1, 2): 0.0,\n",
       " (1, 3): 0.0,\n",
       " (1, 4): 0.0,\n",
       " (1, 5): 0.3333333333333333,\n",
       " (2, 1): 0.0,\n",
       " (2, 2): 0.0,\n",
       " (2, 3): 0.0,\n",
       " (2, 4): 0.0,\n",
       " (2, 5): 0.0,\n",
       " (3, 1): 0.0,\n",
       " (3, 2): 0.0,\n",
       " (3, 3): 0.0,\n",
       " (3, 4): 0.0,\n",
       " (3, 5): 0.3333333333333333,\n",
       " (4, 1): 0.0,\n",
       " (4, 2): 0.0,\n",
       " (4, 3): 0.0,\n",
       " (4, 4): 0.0,\n",
       " (4, 5): 0.0,\n",
       " (5, 1): 0.0,\n",
       " (5, 2): 0.0,\n",
       " (5, 3): 0.0,\n",
       " (5, 4): 0.0,\n",
       " (5, 5): 0.0,\n",
       " (6, 1): 0.0,\n",
       " (6, 2): 0.0,\n",
       " (6, 3): 0.0,\n",
       " (6, 4): 0.0,\n",
       " (6, 5): 0.3333333333333333}"
      ]
     },
     "execution_count": 139,
     "metadata": {},
     "output_type": "execute_result"
    }
   ],
   "source": [
    "\n",
    "def P_1(eps, E_N, E_S):\n",
    "    \n",
    "    '''\n",
    "    Calculates: P(X=x|E_{N}=e_{N},E_{S}=e_{S})\n",
    "    Arguments: E_N, E_S \\in {True,False}\n",
    "               0 <= eps <= 1 (epsilon)    \n",
    "    '''\n",
    "    def findModifications(mod, query, result, indices):\n",
    "        if mod==0:\n",
    "            result.append(query)\n",
    "            return [query]\n",
    "        for i in range(0,len(query)):\n",
    "            if i in indices: continue\n",
    "            a=str(int(not int(query[i])))\n",
    "            newQ=query[:i]+a+query[i+1:]\n",
    "            findModifications(mod-1, newQ, result, indices+[i])\n",
    "        return list(set(result))\n",
    "    \n",
    "    def perceptsJointProb(eps, S):    \n",
    "        global jointProb\n",
    "        localJointProb={}\n",
    "        indices={}\n",
    "        if Directions.NORTH in S: indices[0]=S[Directions.NORTH]\n",
    "        if Directions.SOUTH in S: indices[1]=S[Directions.SOUTH]\n",
    "        if Directions.EAST in S: indices[2]=S[Directions.EAST]\n",
    "        if Directions.WEST in S: indices[3]=S[Directions.WEST]\n",
    "\n",
    "        for x in jointProb.values():\n",
    "            for row in x:\n",
    "                key=''\n",
    "                for index in indices.keys():\n",
    "                    key=key+str(row[index])\n",
    "                if key not in localJointProb: localJointProb[key]=row[4]\n",
    "                else: localJointProb[key]+=row[4]\n",
    "\n",
    "        query=''\n",
    "        for i in range(0,4):\n",
    "            if i not in indices: continue\n",
    "            query=query+str(int(indices[i]))\n",
    "        prob=0\n",
    "        for mod in range (0, len(query)+1):\n",
    "            for newQ in findModifications(mod, query, [], []):\n",
    "                prob+=(localJointProb[newQ])*(eps**(0+mod))*(1-eps)**(len(newQ)-mod)\n",
    "        return prob\n",
    "    \n",
    "    global jointProb\n",
    "    localJointProb={}\n",
    "\n",
    "    for x in jointProb.keys():\n",
    "        localJointProb[x]={}\n",
    "        for row in jointProb[x]:\n",
    "            key=''\n",
    "            for index in (0,1):\n",
    "                key=key+str(row[index])\n",
    "            if key not in localJointProb[x]: localJointProb[x][key]=row[4]\n",
    "            else: localJointProb[x][key]+=row[4]\n",
    "    \n",
    "    query=str(int(E_N))+str(int(E_S))\n",
    "    pd = {(x,y):0 for x in range(1,7) for y in range(1,6)}\n",
    "    for x in localJointProb.keys():\n",
    "        prob=0\n",
    "        for mod in range (0, len(query)+1):\n",
    "            for newQ in findModifications(mod, query, [], []):\n",
    "                prob+=(localJointProb[x][newQ])*(eps**(0+mod))*(1-eps)**(len(newQ)-mod)\n",
    "        pd[x]=prob/perceptsJointProb(eps, {Directions.NORTH: E_N, Directions.SOUTH: E_S})\n",
    "    return pd\n",
    "\n",
    "P_1(0.0, True, False)"
   ]
  },
  {
   "cell_type": "markdown",
   "metadata": {},
   "source": [
    "ii. $P(E_{E}=e_{E}|E_{N}=e_{N},E_{S}=E_{S})$"
   ]
  },
  {
   "cell_type": "code",
   "execution_count": null,
   "metadata": {
    "collapsed": true
   },
   "outputs": [],
   "source": []
  },
  {
   "cell_type": "code",
   "execution_count": 140,
   "metadata": {
    "collapsed": false
   },
   "outputs": [
    {
     "data": {
      "text/plain": [
       "{False: 0.5804878048780489, True: 0.4195121951219512}"
      ]
     },
     "execution_count": 140,
     "metadata": {},
     "output_type": "execute_result"
    }
   ],
   "source": [
    "def P_2(eps, E_N, E_S):\n",
    "    '''\n",
    "    Calculates: P(E_{E}=e_{E}|E_{N}=e_{N},E_{S}=E_{S})\n",
    "    Arguments: E_N, E_S \\in {True,False}\n",
    "               0 <= eps <= 1\n",
    "    '''\n",
    "    def findModifications(mod, query, result, indices):\n",
    "        if mod==0:\n",
    "            result.append(query)\n",
    "            return [query]\n",
    "        for i in range(0,len(query)):\n",
    "            if i in indices: continue\n",
    "            a=str(int(not int(query[i])))\n",
    "            newQ=query[:i]+a+query[i+1:]\n",
    "            findModifications(mod-1, newQ, result, indices+[i])\n",
    "        return list(set(result))\n",
    "    \n",
    "    def perceptsJointProb(eps, S):    \n",
    "        global jointProb\n",
    "        localJointProb={}\n",
    "        indices={}\n",
    "        if Directions.NORTH in S: indices[0]=S[Directions.NORTH]\n",
    "        if Directions.SOUTH in S: indices[1]=S[Directions.SOUTH]\n",
    "        if Directions.EAST in S: indices[2]=S[Directions.EAST]\n",
    "        if Directions.WEST in S: indices[3]=S[Directions.WEST]\n",
    "\n",
    "        for x in jointProb.values():\n",
    "            for row in x:\n",
    "                key=''\n",
    "                for index in indices.keys():\n",
    "                    key=key+str(row[index])\n",
    "                if key not in localJointProb: localJointProb[key]=row[4]\n",
    "                else: localJointProb[key]+=row[4]\n",
    "\n",
    "        query=''\n",
    "        for i in range(0,4):\n",
    "            if i not in indices: continue\n",
    "            query=query+str(int(indices[i]))\n",
    "        prob=0\n",
    "        for mod in range (0, len(query)+1):\n",
    "            for newQ in findModifications(mod, query, [], []):\n",
    "                prob+=(localJointProb[newQ])*(eps**(0+mod))*(1-eps)**(len(newQ)-mod)\n",
    "        return prob\n",
    "    \n",
    "    pd = {True:0, False:0}\n",
    "    for val in pd.keys():\n",
    "        prob=perceptsJointProb(eps, {Directions.NORTH: E_N, Directions.SOUTH: E_S, Directions.EAST: val})/perceptsJointProb(eps, {Directions.NORTH: E_N, Directions.SOUTH: E_S})\n",
    "        pd[val]=prob\n",
    "    return pd\n",
    "\n",
    "P_2(0.2, True, False)"
   ]
  },
  {
   "cell_type": "markdown",
   "metadata": {},
   "source": [
    "iii. $P(S)$, where $S\\subseteq\\{e_{N},e_{S},e_{E},e_{W}\\}$"
   ]
  },
  {
   "cell_type": "code",
   "execution_count": 141,
   "metadata": {
    "collapsed": false
   },
   "outputs": [
    {
     "data": {
      "text/plain": [
       "0.24833333333333332"
      ]
     },
     "execution_count": 141,
     "metadata": {},
     "output_type": "execute_result"
    }
   ],
   "source": [
    "def P_3(eps, S):\n",
    "    '''\n",
    "    Calculates: P(S), where S\\subseteq\\{e_{N},e_{S},e_{E},e_{W}\\}\n",
    "    Arguments: S a dictionary with keywords in Directions and values in\n",
    "    {True,False}\n",
    "               0 <= eps <= 1\n",
    "    '''    \n",
    "    def findModifications(mod, query, result, indices):\n",
    "        if mod==0:\n",
    "            result.append(query)\n",
    "            return [query]\n",
    "        for i in range(0,len(query)):\n",
    "            if i in indices: continue\n",
    "            a=str(int(not int(query[i])))\n",
    "            newQ=query[:i]+a+query[i+1:]\n",
    "            findModifications(mod-1, newQ, result, indices+[i])\n",
    "        return list(set(result))\n",
    "    \n",
    "    global jointProb\n",
    "    localJointProb={}\n",
    "    indices={}\n",
    "    if Directions.NORTH in S: indices[0]=S[Directions.NORTH]\n",
    "    if Directions.SOUTH in S: indices[1]=S[Directions.SOUTH]\n",
    "    if Directions.EAST in S: indices[2]=S[Directions.EAST]\n",
    "    if Directions.WEST in S: indices[3]=S[Directions.WEST]\n",
    "    \n",
    "    for x in jointProb.values():\n",
    "        for row in x:\n",
    "            key=''\n",
    "            for index in indices.keys():\n",
    "                key=key+str(row[index])\n",
    "            if key not in localJointProb: localJointProb[key]=row[4]\n",
    "            else: localJointProb[key]+=row[4]\n",
    "    \n",
    "    query=''\n",
    "    for i in range(0,4):\n",
    "        if i not in indices: continue\n",
    "        query=query+str(int(indices[i]))\n",
    "    \n",
    "    prob=0\n",
    "    for mod in range (0, len(query)+1):\n",
    "        for newQ in findModifications(mod, query, [], []):\n",
    "            prob+=(localJointProb[newQ])*(eps**(0+mod))*(1-eps)**(len(newQ)-mod)\n",
    "    \n",
    "    return prob\n",
    "\n",
    "P_3(0.3, {Directions.EAST: True, Directions.SOUTH: False})"
   ]
  },
  {
   "cell_type": "markdown",
   "metadata": {},
   "source": [
    "### c. Bayes' net for dynamic perception and position.\n",
    "\n",
    "Now we will consider a scenario where the Pacman moves a finite number of steps $n$. In this case we have $n$\n",
    "different variables for the positions $X_{1},\\dots,X_{n}$, as well as for each one of the perceptions, e.g.\n",
    "$E_{N_{1}},\\dots,E_{N_{n}}$ for the north perception. For the initial Pacman position, assume an uniform \n",
    "distribution among the valid positions. Also assume that at each time step the Pacman choses, to move, one of the valid neighbor positions with uniform probability. Draw the corresponding Bayes' net for $n=4$.\n",
    "\n",
    "<img src=\"bayesNetB.png\" />\n",
    "\n",
    "### d. Probability functions calculated from the dynamic model.\n",
    "\n",
    "Assuming an uniform distribution for the Pacman position probability, write functions to calculate the following probabilities:\n",
    "\n",
    "i. $P(X_{4}=x_{4}|E_{1}=e_{1},E_{3}=e_{3})$"
   ]
  },
  {
   "cell_type": "code",
   "execution_count": 142,
   "metadata": {
    "collapsed": false
   },
   "outputs": [
    {
     "data": {
      "text/plain": [
       "{(1, 1): 0.04264966977161866,\n",
       " (1, 2): 4.3691032902958596e-05,\n",
       " (1, 3): 0.04265616926411662,\n",
       " (1, 4): 0.00030367073282138997,\n",
       " (1, 5): 0.04264966977161866,\n",
       " (2, 1): 0.00015923756620003914,\n",
       " (2, 2): 0,\n",
       " (2, 3): 0.00021836489378565473,\n",
       " (2, 4): 0,\n",
       " (2, 5): 0.010548676324190352,\n",
       " (3, 1): 0.08529284005073937,\n",
       " (3, 2): 0.0003339114270827353,\n",
       " (3, 3): 0.19190726524103904,\n",
       " (3, 4): 0.010463370485154616,\n",
       " (3, 5): 0.08529284005073937,\n",
       " (4, 1): 0.023037451159022,\n",
       " (4, 2): 0,\n",
       " (4, 3): 0.03217979979396609,\n",
       " (4, 4): 0,\n",
       " (4, 5): 0.05290911867964976,\n",
       " (5, 1): 0.04448577640229258,\n",
       " (5, 2): 0,\n",
       " (5, 3): 0.1493875853193796,\n",
       " (5, 4): 0,\n",
       " (5, 5): 0.06422798486484846,\n",
       " (6, 1): 0.022907461309062783,\n",
       " (6, 2): 0.001979095465629059,\n",
       " (6, 3): 0.03199537669433645,\n",
       " (6, 4): 0.02172130392818494,\n",
       " (6, 5): 0.04264966977161866}"
      ]
     },
     "execution_count": 142,
     "metadata": {},
     "output_type": "execute_result"
    }
   ],
   "source": [
    "def P_4(eps, E_1, E_3):\n",
    "    #State Transition probability = {X_2{ X_1:P(X_2|X_1) }}\n",
    "    tabuX=[(2,2),(2,4),(4,2),(4,4),(5,2),(5,4)]\n",
    "    STP={(x,y):{(x+i[0],y+i[1]):0 for i in [(1,0), (0,1), (-1,0), (0, -1)] if(0<(x+i[0])<7 and 0<(y+i[1])<6 and (x+i[0],y+i[1]) not in tabuX)} for x in range(1,7) for y in range(1,6) if (x,y) not in tabuX}\n",
    "    for x1 in STP.keys():\n",
    "        for x2 in STP[x1].keys():\n",
    "            STP[x1][x2]=1.0/len(STP[x2])\n",
    "    \n",
    "    '''\n",
    "    Calculates: P(X_{4}=x_{4}|E_{1}=e_{1},E_{3}=e_{3})\n",
    "    Arguments: E_1, E_3 dictionaries of type Directions --> {True,False}\n",
    "               0 <= eps <= 1\n",
    "    '''\n",
    "    def findProb(x,q):\n",
    "        for row in jointProb[x]:\n",
    "            if row[0]==int(q[0]) and row[1]==int(q[1]) and row[2]==int(q[2]) and row[3]==int(q[3]):\n",
    "                return row[4]\n",
    "            \n",
    "    def findModifications(mod, query, result, indices):\n",
    "        if mod==0:\n",
    "            result.append(query)\n",
    "            return [query]\n",
    "        for i in range(0,len(query)):\n",
    "            if i in indices: continue\n",
    "            a=str(int(not int(query[i])))\n",
    "            newQ=query[:i]+a+query[i+1:]\n",
    "            findModifications(mod-1, newQ, result, indices+[i])\n",
    "        return list(set(result))\n",
    "    \n",
    "    global jointProb\n",
    "    probX1={}\n",
    "    jointE_1 = P_3(eps, E_1)\n",
    "    query= str(int(E_1[Directions.NORTH]))+str(int(E_1[Directions.SOUTH]))+str(int(E_1[Directions.EAST]))+str(int(E_1[Directions.WEST]))\n",
    "    for x in jointProb.keys():\n",
    "        prob=0\n",
    "        for mod in range (0, len(query)+1):\n",
    "            for newQ in findModifications(mod, query, [], []):\n",
    "                prob+=findProb(x,newQ)*(eps**(0+mod))*(1-eps)**(len(newQ)-mod)\n",
    "        probX1[x]=prob/jointE_1\n",
    "    \n",
    "    probX2={}\n",
    "    for x in STP.keys():\n",
    "        suma=0\n",
    "        for key in STP[x].keys():\n",
    "            suma+=STP[x][key]*probX1[key]\n",
    "        probX2[x]=suma\n",
    "    \n",
    "    probX3_X2= {}\n",
    "    for x in STP.keys():\n",
    "        suma=0\n",
    "        for key in STP[x].keys():\n",
    "            suma= STP[x][key]*probX2[key]\n",
    "        probX3_X2[x]=suma\n",
    "    \n",
    "    probX3={}\n",
    "    jointE_3 = P_3(eps, E_3)\n",
    "    query= str(int(E_3[Directions.NORTH]))+str(int(E_3[Directions.SOUTH]))+str(int(E_3[Directions.EAST]))+str(int(E_3[Directions.WEST]))\n",
    "    for x in jointProb.keys():\n",
    "        prob=0\n",
    "        for mod in range (0, len(query)+1):\n",
    "            for newQ in findModifications(mod, query, [], []):\n",
    "                prob+=findProb(x,newQ)*(eps**(0+mod))*(1-eps)**(len(newQ)-mod)\n",
    "        probX3[x]=prob/jointE_3\n",
    "    \n",
    "    totalProbX3={}\n",
    "    suma=0\n",
    "    for x in probX3_X2.keys():\n",
    "        totalProbX3[x]=probX3[x]*probX3_X2[x]*24.0\n",
    "        suma+=totalProbX3[x]\n",
    "    for x in probX3_X2.keys():\n",
    "        totalProbX3[x]=totalProbX3[x]/suma\n",
    "    \n",
    "    probX4= {}      \n",
    "    for x in STP.keys():\n",
    "        suma=0\n",
    "        for key in STP[x].keys():\n",
    "            suma+=STP[x][key]*totalProbX3[key]\n",
    "        probX4[x]=suma\n",
    "    \n",
    "    pd = {(x,y):0 for x in range(1,7) for y in range(1,6)}\n",
    "    for k  in probX4.keys():\n",
    "        pd[k]=probX4[k]\n",
    "    \n",
    "    return pd\n",
    "\n",
    "E_1 = {Directions.NORTH: True, Directions.SOUTH: False, Directions.EAST: True, Directions.WEST: False}\n",
    "E_3 = {Directions.NORTH: True, Directions.SOUTH: True, Directions.EAST: False, Directions.WEST: False}\n",
    "P_4(0.1, E_1, E_3)"
   ]
  },
  {
   "cell_type": "markdown",
   "metadata": {},
   "source": [
    "ii. $P(X_{2}=x_{2}|E_{2}=e_{2},E_{3}=e_{3},E_{4}=e_{4})$"
   ]
  },
  {
   "cell_type": "code",
   "execution_count": 143,
   "metadata": {
    "collapsed": false
   },
   "outputs": [
    {
     "data": {
      "text/plain": [
       "{(1, 1): 0,\n",
       " (1, 2): 0,\n",
       " (1, 3): 0,\n",
       " (1, 4): 0,\n",
       " (1, 5): 0,\n",
       " (2, 1): 0,\n",
       " (2, 2): 0,\n",
       " (2, 3): 0,\n",
       " (2, 4): 0,\n",
       " (2, 5): 0,\n",
       " (3, 1): 0,\n",
       " (3, 2): 0,\n",
       " (3, 3): 0,\n",
       " (3, 4): 0,\n",
       " (3, 5): 0,\n",
       " (4, 1): 0,\n",
       " (4, 2): 0,\n",
       " (4, 3): 0,\n",
       " (4, 4): 0,\n",
       " (4, 5): 0,\n",
       " (5, 1): 0,\n",
       " (5, 2): 0,\n",
       " (5, 3): 0,\n",
       " (5, 4): 0,\n",
       " (5, 5): 0,\n",
       " (6, 1): 0,\n",
       " (6, 2): 0,\n",
       " (6, 3): 0,\n",
       " (6, 4): 0,\n",
       " (6, 5): 0}"
      ]
     },
     "execution_count": 143,
     "metadata": {},
     "output_type": "execute_result"
    }
   ],
   "source": [
    "def P_5(eps, E_2, E_3, E_4):\n",
    "    '''\n",
    "    Calculates: P(X_{2}=x_{2}|E_{2}=e_{2},E_{3}=e_{3},E_{4}=e_{4})\n",
    "    Arguments: E_2, E_3, E_4 dictionaries of type Directions --> {True,False}\n",
    "               0 <= eps <= 1\n",
    "    '''\n",
    "    pd = {(x,y):0 for x in range(1,7) for y in range(1,6)}\n",
    "    return pd\n",
    "\n",
    "E_2 = {Directions.NORTH: True, Directions.SOUTH: False, Directions.EAST: True, Directions.WEST: False}\n",
    "E_3 = {Directions.NORTH: True, Directions.SOUTH: True, Directions.EAST: False, Directions.WEST: False}\n",
    "E_4 = {Directions.NORTH: True, Directions.SOUTH: False, Directions.EAST: True, Directions.WEST: False}\n",
    "P_5(0.1, E_2, E_3, E_4)"
   ]
  },
  {
   "cell_type": "markdown",
   "metadata": {},
   "source": [
    "iii. $P(E_{4}=e_{4}|E_{1}=e_{1},E_{2}=e_{2},E_{3}=e_{3})$"
   ]
  },
  {
   "cell_type": "code",
   "execution_count": 144,
   "metadata": {
    "collapsed": false
   },
   "outputs": [
    {
     "data": {
      "text/plain": [
       "{(False, False, False, False): 0,\n",
       " (False, False, False, True): 0,\n",
       " (False, False, True, False): 0,\n",
       " (False, False, True, True): 0,\n",
       " (False, True, False, False): 0,\n",
       " (False, True, False, True): 0,\n",
       " (False, True, True, False): 0,\n",
       " (False, True, True, True): 0,\n",
       " (True, False, False, False): 0,\n",
       " (True, False, False, True): 0,\n",
       " (True, False, True, False): 0,\n",
       " (True, False, True, True): 0,\n",
       " (True, True, False, False): 0,\n",
       " (True, True, False, True): 0,\n",
       " (True, True, True, False): 0,\n",
       " (True, True, True, True): 0}"
      ]
     },
     "execution_count": 144,
     "metadata": {},
     "output_type": "execute_result"
    }
   ],
   "source": [
    "def P_6(eps, E_1, E_2, E_3):\n",
    "    '''\n",
    "    Calculates: P(E_{4}=e_{4}|E_{1}=e_{1},E_{2}=e_{2},E_{3}=e_{3})\n",
    "    Arguments: E_1, E_2, E_3 dictionaries of type Directions --> {True,False}\n",
    "               0 <= eps <= 1\n",
    "    '''\n",
    "    pd = {(n, s, e, w): 0 for n in [False, True] for s in [False, True] \n",
    "                                 for e in [False, True] for w in [False, True]}\n",
    "    return pd\n",
    "\n",
    "E_1 = {Directions.NORTH: True, Directions.SOUTH: False, Directions.EAST: True, Directions.WEST: False}\n",
    "E_2 = {Directions.NORTH: True, Directions.SOUTH: False, Directions.EAST: True, Directions.WEST: False}\n",
    "E_3 = {Directions.NORTH: True, Directions.SOUTH: True, Directions.EAST: False, Directions.WEST: False}\n",
    "P_6(0.1, E_1, E_2, E_3)"
   ]
  },
  {
   "cell_type": "markdown",
   "metadata": {},
   "source": [
    "iv. $P(E_{E_{2}}=e_{E_{2}}|E_{N_{2}}=e_{N_{2}},E_{S_{2}}=E_{S_{2}})$"
   ]
  },
  {
   "cell_type": "code",
   "execution_count": 145,
   "metadata": {
    "collapsed": false
   },
   "outputs": [
    {
     "data": {
      "text/plain": [
       "{False: 0.615686274509804, True: 0.3843137254901961}"
      ]
     },
     "execution_count": 145,
     "metadata": {},
     "output_type": "execute_result"
    }
   ],
   "source": [
    "def P_7(eps, E_N, E_S):\n",
    "    '''\n",
    "    Calculates: P(E_{E_{2}}=e_{E_{2}}|E_{N_{2}}=e_{N_{2}},E_{S_{2}}=E_{S_{2}})\n",
    "    Arguments: E_N_2, E_S_2 \\in {True,False}\n",
    "               0 <= eps <= 1\n",
    "    '''\n",
    "    return P_2(eps, E_N, E_S)\n",
    "    pd = {True:0, False:0}\n",
    "    return pd\n",
    "\n",
    "P_7(0.1, True, False)"
   ]
  },
  {
   "cell_type": "markdown",
   "metadata": {},
   "source": [
    "### Test functions\n",
    "\n",
    "You can use the following functions to test your solutions."
   ]
  },
  {
   "cell_type": "code",
   "execution_count": 147,
   "metadata": {
    "collapsed": false
   },
   "outputs": [
    {
     "name": "stdout",
     "output_type": "stream",
     "text": [
      "0.166666666667\n",
      "0.0\n"
     ]
    },
    {
     "ename": "AssertionError",
     "evalue": "",
     "output_type": "error",
     "traceback": [
      "\u001b[0;31m---------------------------------------------------------------------------\u001b[0m",
      "\u001b[0;31mAssertionError\u001b[0m                            Traceback (most recent call last)",
      "\u001b[0;32m<ipython-input-147-32cf32837d9c>\u001b[0m in \u001b[0;36m<module>\u001b[0;34m()\u001b[0m\n\u001b[1;32m     62\u001b[0m \u001b[0mtest_P_2\u001b[0m\u001b[0;34m(\u001b[0m\u001b[0;34m)\u001b[0m\u001b[0;34m\u001b[0m\u001b[0m\n\u001b[1;32m     63\u001b[0m \u001b[0mtest_P_3\u001b[0m\u001b[0;34m(\u001b[0m\u001b[0;34m)\u001b[0m\u001b[0;34m\u001b[0m\u001b[0m\n\u001b[0;32m---> 64\u001b[0;31m \u001b[0mtest_P_4\u001b[0m\u001b[0;34m(\u001b[0m\u001b[0;34m)\u001b[0m\u001b[0;34m\u001b[0m\u001b[0m\n\u001b[0m\u001b[1;32m     65\u001b[0m \u001b[0;32mprint\u001b[0m \u001b[0;34m'Everything seems ok so far =)'\u001b[0m\u001b[0;34m\u001b[0m\u001b[0m\n",
      "\u001b[0;32m<ipython-input-147-32cf32837d9c>\u001b[0m in \u001b[0;36mtest_P_4\u001b[0;34m()\u001b[0m\n\u001b[1;32m     30\u001b[0m     \u001b[0;32mprint\u001b[0m \u001b[0mpd\u001b[0m\u001b[0;34m[\u001b[0m\u001b[0;36m6\u001b[0m\u001b[0;34m,\u001b[0m\u001b[0;36m3\u001b[0m\u001b[0;34m]\u001b[0m\u001b[0;34m\u001b[0m\u001b[0m\n\u001b[1;32m     31\u001b[0m     \u001b[0;32mprint\u001b[0m \u001b[0mpd\u001b[0m\u001b[0;34m[\u001b[0m\u001b[0;36m4\u001b[0m\u001b[0;34m,\u001b[0m\u001b[0;36m3\u001b[0m\u001b[0;34m]\u001b[0m\u001b[0;34m\u001b[0m\u001b[0m\n\u001b[0;32m---> 32\u001b[0;31m     \u001b[0;32massert\u001b[0m \u001b[0mapprox_equal\u001b[0m\u001b[0;34m(\u001b[0m\u001b[0mpd\u001b[0m\u001b[0;34m[\u001b[0m\u001b[0;34m(\u001b[0m\u001b[0;36m6\u001b[0m\u001b[0;34m,\u001b[0m \u001b[0;36m3\u001b[0m\u001b[0;34m)\u001b[0m\u001b[0;34m]\u001b[0m\u001b[0;34m,\u001b[0m \u001b[0;36m0.1842105263157895\u001b[0m\u001b[0;34m)\u001b[0m\u001b[0;34m\u001b[0m\u001b[0m\n\u001b[0m\u001b[1;32m     33\u001b[0m     \u001b[0;32massert\u001b[0m \u001b[0mapprox_equal\u001b[0m\u001b[0;34m(\u001b[0m\u001b[0mpd\u001b[0m\u001b[0;34m[\u001b[0m\u001b[0;34m(\u001b[0m\u001b[0;36m4\u001b[0m\u001b[0;34m,\u001b[0m \u001b[0;36m3\u001b[0m\u001b[0;34m)\u001b[0m\u001b[0;34m]\u001b[0m\u001b[0;34m,\u001b[0m \u001b[0;36m0.0\u001b[0m\u001b[0;34m)\u001b[0m\u001b[0;34m\u001b[0m\u001b[0m\n\u001b[1;32m     34\u001b[0m     \u001b[0mpd\u001b[0m \u001b[0;34m=\u001b[0m \u001b[0mP_4\u001b[0m\u001b[0;34m(\u001b[0m\u001b[0;36m0.2\u001b[0m\u001b[0;34m,\u001b[0m \u001b[0mE_1\u001b[0m\u001b[0;34m,\u001b[0m \u001b[0mE_3\u001b[0m\u001b[0;34m)\u001b[0m\u001b[0;34m\u001b[0m\u001b[0m\n",
      "\u001b[0;31mAssertionError\u001b[0m: "
     ]
    }
   ],
   "source": [
    "def approx_equal(val1, val2):\n",
    "    return abs(val1-val2) <= 0.00001\n",
    "\n",
    "def test_P_1():\n",
    "    pd = P_1(0.0, True, True)\n",
    "    assert approx_equal(pd[(2, 1)], 0.1111111111111111)\n",
    "    assert approx_equal(pd[(3, 1)], 0)\n",
    "    pd = P_1(0.3, True, False)\n",
    "    assert approx_equal(pd[(2, 1)], 0.03804347826086956)\n",
    "    assert approx_equal(pd[(3, 1)], 0.016304347826086956)\n",
    "\n",
    "def test_P_2():\n",
    "    pd = P_2(0.0, True, True)\n",
    "    assert approx_equal(pd[False], 1.0)\n",
    "    pd = P_2(0.3, True, False)\n",
    "    assert approx_equal(pd[False], 0.5514492753623188)\n",
    "\n",
    "def test_P_3():\n",
    "    pd = P_3(0.1, {Directions.EAST: True, Directions.WEST: True})\n",
    "    assert approx_equal(pd, 0.2299999999999999)\n",
    "    pd = P_3(0.1, {Directions.EAST: True})\n",
    "    assert approx_equal(pd, 0.3999999999999999)\n",
    "    pd = P_3(0.2, {Directions.EAST: False, Directions.WEST: True, Directions.SOUTH: True})\n",
    "    assert approx_equal(pd, 0.0980000000000000)\n",
    "\n",
    "def test_P_4():\n",
    "    E_1 = {Directions.NORTH: False, Directions.SOUTH: False, Directions.EAST: True, Directions.WEST: True}\n",
    "    E_3 = {Directions.NORTH: False, Directions.SOUTH: False, Directions.EAST: True, Directions.WEST: True}\n",
    "    pd = P_4(0.0, E_1, E_3)\n",
    "    print pd[6,3]\n",
    "    print pd[4,3]\n",
    "    assert approx_equal(pd[(6, 3)], 0.1842105263157895)\n",
    "    assert approx_equal(pd[(4, 3)], 0.0)\n",
    "    pd = P_4(0.2, E_1, E_3)\n",
    "    assert approx_equal(pd[(6, 3)], 0.17777843398830864)\n",
    "    assert approx_equal(pd[(4, 3)], 0.000578430282649176)\n",
    "    E_1 = {Directions.NORTH: True, Directions.SOUTH: False, Directions.EAST: True, Directions.WEST: False}\n",
    "    E_3 = {Directions.NORTH: False, Directions.SOUTH: False, Directions.EAST: True, Directions.WEST: False}\n",
    "    pd = P_4(0.0, E_1, E_3)\n",
    "    assert approx_equal(pd[(6, 2)], 0.3333333333333333)\n",
    "    assert approx_equal(pd[(4, 3)], 0.0)\n",
    "\n",
    "def test_P_5():\n",
    "    E_2 = {Directions.NORTH: True, Directions.SOUTH: True, Directions.EAST: False, Directions.WEST: False}\n",
    "    E_3 = {Directions.NORTH: True, Directions.SOUTH: False, Directions.EAST: False, Directions.WEST: False}\n",
    "    E_4 = {Directions.NORTH: True, Directions.SOUTH: True, Directions.EAST: False, Directions.WEST: False}\n",
    "    pd = P_5(0, E_2, E_3, E_4)\n",
    "    assert approx_equal(pd[(2, 5)], 0.5)\n",
    "    assert approx_equal(pd[(4, 3)], 0.0)\n",
    "    pd = P_5(0.3, E_2, E_3, E_4)\n",
    "    assert approx_equal(pd[(2, 5)], 0.1739661245168835)\n",
    "    assert approx_equal(pd[(4, 3)], 0.0787991740545979)\n",
    "\n",
    "def test_P_7():\n",
    "    pd = P_7(0.0, True, False)\n",
    "    print pd[False]\n",
    "    assert approx_equal(pd[False], 0.7142857142857143)\n",
    "    pd = P_7(0.3, False, False)\n",
    "    assert approx_equal(pd[False], 0.5023529411764706)\n",
    "    \n",
    "test_P_1()\n",
    "test_P_2()\n",
    "test_P_3()\n",
    "print 'Everything seems ok so far =)'"
   ]
  },
  {
   "cell_type": "code",
   "execution_count": null,
   "metadata": {
    "collapsed": true
   },
   "outputs": [],
   "source": []
  }
 ],
 "metadata": {
  "kernelspec": {
   "display_name": "Python 3",
   "language": "python",
   "name": "python3"
  },
  "language_info": {
   "codemirror_mode": {
    "name": "ipython",
    "version": 3
   },
   "file_extension": ".py",
   "mimetype": "text/x-python",
   "name": "python",
   "nbconvert_exporter": "python",
   "pygments_lexer": "ipython3",
   "version": "3.5.1"
  }
 },
 "nbformat": 4,
 "nbformat_minor": 0
}
