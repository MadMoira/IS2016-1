{
 "cells": [
  {
   "cell_type": "markdown",
   "metadata": {},
   "source": [
    "# Intelligent Systems Assignment 1\n",
    "\n",
    "## Masterball solver\n",
    "\n",
    "-----------------------------------------\n",
    "\n",
    "**Name:** Alexander Gonzalez Castañeda\n",
    " \n",
    "**ID:** 1032452063\n",
    "\n",
    "-----------------------------------------\n",
    "\n",
    "**Name:** Camilo Andrés Rodriguez\n",
    "\n",
    "**ID:** 1018446221\n"
   ]
  },
  {
   "cell_type": "markdown",
   "metadata": {},
   "source": [
    "### 1. Create a class to model the Masterball problem"
   ]
  },
  {
   "cell_type": "markdown",
   "metadata": {},
   "source": [
    "A Masterball must be represented as an array of arrays with integer values representing the color of the tile in each position:\n",
    "\n",
    "A solved masterball must look like this:\n",
    "\n",
    "```python\n",
    "[ [0, 1, 2, 3, 4, 5, 6, 7],\n",
    "  [0, 1, 2, 3, 4, 5, 6, 7],\n",
    "  [0, 1, 2, 3, 4, 5, 6, 7],\n",
    "  [0, 1, 2, 3, 4, 5, 6, 7]\n",
    "]\n",
    "```"
   ]
  },
  {
   "cell_type": "markdown",
   "metadata": {},
   "source": [
    "#### Variables modeling the actions"
   ]
  },
  {
   "cell_type": "code",
   "execution_count": 109,
   "metadata": {
    "collapsed": false
   },
   "outputs": [],
   "source": [
    "'''\n",
    "This variables MUST not be changed.\n",
    "They represent the movements of the masterball.\n",
    "'''\n",
    "R_0 = \"Right 0\"\n",
    "R_1 = \"Right 1\"\n",
    "R_2 = \"Right 2\"\n",
    "R_3 = \"Right 3\"\n",
    "\n",
    "V_0 = \"Vertical 0\"\n",
    "V_1 = \"Vertical 1\"\n",
    "V_2 = \"Vertical 2\"\n",
    "V_3 = \"Vertical 3\"\n",
    "V_4 = \"Vertical 4\"\n",
    "V_5 = \"Vertical 5\"\n",
    "V_6 = \"Vertical 6\"\n",
    "V_7 = \"Vertical 7\"\n"
   ]
  },
  {
   "cell_type": "markdown",
   "metadata": {},
   "source": [
    "`R_i` moves the `i`th row to the right. For instance, `R_2` applied to the solved state will produce:\n",
    "\n",
    "```python\n",
    "[ [0, 1, 2, 3, 4, 5, 6, 7],\n",
    "  [0, 1, 2, 3, 4, 5, 6, 7],\n",
    "  [7, 0, 1, 2, 3, 4, 5, 6],\n",
    "  [0, 1, 2, 3, 4, 5, 6, 7]\n",
    "]\n",
    "```\n",
    "\n",
    "`V_i` performs a clockwise vertical move starting with the `i`th column\n",
    "\n",
    "`V_1` applied to the above state will produce:\n",
    "\n",
    "```python\n",
    "[ [0, 4, 3, 2, 1, 5, 6, 7],\n",
    "  [0, 3, 2, 1, 0, 5, 6, 7],\n",
    "  [7, 4, 3, 2, 1, 4, 5, 6],\n",
    "  [0, 4, 3, 2, 1, 5, 6, 7]\n",
    "]\n",
    "```"
   ]
  },
  {
   "cell_type": "markdown",
   "metadata": {},
   "source": [
    "#### The Masterball problem class"
   ]
  },
  {
   "cell_type": "code",
   "execution_count": 110,
   "metadata": {
    "collapsed": false
   },
   "outputs": [],
   "source": [
    "import search\n",
    "import util\n",
    "import copy\n",
    "from random import randint\n",
    "\n",
    "class MasterballProblem(search.SearchProblem):    \n",
    "    \n",
    "    def __init__(self, startState):\n",
    "        '''\n",
    "        Store the initial state in the problem representation and any useful\n",
    "        data.\n",
    "        Here are some examples of initial states:\n",
    "        [[0, 1, 4, 5, 6, 2, 3, 7], [0, 1, 3, 4, 5, 6, 3, 7], [1, 2, 4, 5, 6, 2, 7, 0], [0, 1, 4, 5, 6, 2, 3, 7]]\n",
    "        [[0, 7, 4, 5, 1, 6, 2, 3], [0, 7, 4, 5, 0, 5, 2, 3], [7, 6, 3, 4, 1, 6, 1, 2], [0, 7, 4, 5, 1, 6, 2, 3]]\n",
    "        [[0, 1, 6, 4, 5, 2, 3, 7], [0, 2, 6, 5, 1, 3, 4, 7], [0, 2, 6, 5, 1, 3, 4, 7], [0, 5, 6, 4, 1, 2, 3, 7]]\n",
    "        '''\n",
    "        self.startState = startState.__str__()\n",
    "        self.expanded = 0\n",
    "    \n",
    "    def reset(self):\n",
    "        self.expanded=0\n",
    "    \n",
    "    def setStartState(self, state):\n",
    "        self.startState = state\n",
    "    \n",
    "    def readState(self, string):\n",
    "        state=[]\n",
    "        lists=string.split('], [')\n",
    "        for i in lists:\n",
    "            a=i.replace('[', '')\n",
    "            a=a.replace(']', '')\n",
    "            a=a.replace(' ', '')\n",
    "            items=a.split(',')\n",
    "            temp=[]\n",
    "            for j in items:\n",
    "                temp.append(int(j))\n",
    "            state.append(temp)\n",
    "        return state\n",
    "    \n",
    "    \n",
    "    def makeMove(self, state, action):\n",
    "        newState = self.readState(state)\n",
    "        act=action.split()\n",
    "        index=int(act[1])\n",
    "        if act[0]=='Right':\n",
    "            newState[index]=newState[index][-1:]+newState[index][:-1]\n",
    "        elif act[0]=='Right-':\n",
    "            newState[index]=newState[index][1:]+newState[index][:1]\n",
    "        else:\n",
    "            transp=map(list, zip(*newState))\n",
    "            temp=[]\n",
    "            for i in range(0,4):\n",
    "                j=(index+i)%8\n",
    "                temp.append(transp[j])\n",
    "                temp[i].reverse()\n",
    "            temp.reverse()\n",
    "            for i in range(0,4):\n",
    "                j=(index+i)%8\n",
    "                transp[j]=temp[i]\n",
    "            newState=map(list, zip(*transp))\n",
    "        return newState.__str__()\n",
    "            \n",
    "    \n",
    "    def isGoalState(self, state):\n",
    "        '''\n",
    "        Define when a given state is a goal state (A correctly colored masterball)\n",
    "        '''\n",
    "        s = self.readState(state)\n",
    "        transp=map(list, zip(*s))\n",
    "        for idx, latitude in enumerate(transp):\n",
    "            for item in latitude:\n",
    "                if idx != item: return False\n",
    "        return True\n",
    "    \n",
    "    def getStartState(self):\n",
    "        '''\n",
    "        Implement a method that returns the start state according to the SearchProblem\n",
    "        contract.\n",
    "        '''\n",
    "        return self.startState\n",
    "\n",
    "    def getSuccessors(self, state):\n",
    "        '''\n",
    "        Implement a successor function: Given a state from the masterball\n",
    "        return a list of the successors and their corresponding actions. \n",
    "\n",
    "        This method *must* return a list where each element is a tuple of \n",
    "        three elements with the state of the masterball in the first position,\n",
    "        the action (according to the definition above) in the second position, \n",
    "        and the cost of the action in the last position. \n",
    "\n",
    "        Note that you should not modify the state.\n",
    "        '''\n",
    "        self.expanded += 1\n",
    "        successors=[]\n",
    "        for i in range(0, 4):\n",
    "            action='Right '+str(i)\n",
    "            successors.append( (self.makeMove(state, action), action, 8) )\n",
    "        for i in range(0, 8):\n",
    "            action='Vertical '+str(i)\n",
    "            successors.append( (self.makeMove(state, action), action, 16) )\n",
    "        return successors"
   ]
  },
  {
   "cell_type": "markdown",
   "metadata": {},
   "source": [
    "### 2. Implement iterative deepening search\n",
    "\n",
    "Follow the example code provided in class and implement iterative deepening search (IDS)."
   ]
  },
  {
   "cell_type": "code",
   "execution_count": 111,
   "metadata": {
    "collapsed": false
   },
   "outputs": [
    {
     "name": "stdout",
     "output_type": "stream",
     "text": [
      "Populating the interactive namespace from numpy and matplotlib\n"
     ]
    },
    {
     "name": "stderr",
     "output_type": "stream",
     "text": [
      "WARNING: pylab import has clobbered these variables: ['copy', 'randint']\n",
      "`%matplotlib` prevents importing * from pylab and numpy\n"
     ]
    }
   ],
   "source": [
    "import numpy as np\n",
    "import matplotlib.pyplot as plt\n",
    "%pylab inline\n",
    "\n",
    "def iterativeDeepeningSearch(problem):\n",
    "    lim=50\n",
    "    for i in range(1, lim+1):\n",
    "        visited = {}\n",
    "        state = problem.getStartState()\n",
    "        visited[state] = 'gray'\n",
    "        frontier = util.Stack()\n",
    "        frontier.push((state, []))\n",
    "        while not frontier.isEmpty():\n",
    "            u, actions = frontier.pop()\n",
    "            if len(actions)>=i: continue\n",
    "            for v, action, cost in problem.getSuccessors(u):\n",
    "                if not v in visited:\n",
    "                    if problem.isGoalState(v):\n",
    "                        return  actions + [action]\n",
    "                    visited[v] = 'gray'\n",
    "                    frontier.push((v, actions + [action]))\n",
    "            visited[u] = 'green'\n",
    "    return []\n",
    "\n",
    "def aStarSearch(problem, heuristic):\n",
    "    lim=50\n",
    "    for i in range(1, lim+1):\n",
    "        visited = {}\n",
    "        state = problem.getStartState()\n",
    "        visited[state] = 0\n",
    "        frontier = util.PriorityQueue()\n",
    "        frontier.push((state, [], 0),0)\n",
    "        while not frontier.isEmpty():\n",
    "            item=frontier.pop()\n",
    "            u, actions, c = item\n",
    "            if len(actions)>=i: continue\n",
    "            for v, action, cost in problem.getSuccessors(u):\n",
    "                if v in visited and c+cost>=visited[v]: continue\n",
    "                if problem.isGoalState(v):\n",
    "                    return  actions + [action]\n",
    "                visited[v] = c+cost\n",
    "                frontier.push((v, actions + [action], c+cost), c+cost+heuristic(problem.readState(v)))\n",
    "    return []\n",
    "\n"
   ]
  },
  {
   "cell_type": "markdown",
   "metadata": {},
   "source": [
    "Evaluate it to see what is the maximum depth that it could explore in a reasonable time. Report the results. "
   ]
  },
  {
   "cell_type": "markdown",
   "metadata": {},
   "source": [
    "### 3. Implement different heuristics for the problem"
   ]
  },
  {
   "cell_type": "markdown",
   "metadata": {
    "collapsed": true
   },
   "source": [
    "Implement at least two admissible and consistent heuristics. Compare A* using the heuristics against IDS calculating the number of expanded nodes and the effective branching factor, in the same way as it is done in figure 3.29 of [Russell10]."
   ]
  },
  {
   "cell_type": "code",
   "execution_count": 112,
   "metadata": {
    "collapsed": false
   },
   "outputs": [],
   "source": [
    "def myHeuristic1(state):\n",
    "    transp=map(list, zip(*state))\n",
    "    count=0\n",
    "    for idx, latitude in enumerate(transp):\n",
    "        for item in latitude:\n",
    "            if idx == item: count+=1\n",
    "    return 32-count\n",
    "\n",
    "def myHeuristic2(state):\n",
    "    solved = 0\n",
    "    for index in xrange(0,8):\n",
    "        if state[0][index] == state[1][index] == state[2][index] == state[3][index]:\n",
    "            solved += 1\n",
    "    return 8 - solved"
   ]
  },
  {
   "cell_type": "code",
   "execution_count": 113,
   "metadata": {
    "collapsed": false
   },
   "outputs": [
    {
     "name": "stdout",
     "output_type": "stream",
     "text": [
      "-- IDS --\n",
      "['Vertical 5', 'Right 1', 'Vertical 5', 'Vertical 1']\n",
      "Nodes expanded: 450   Branching Factor:  4.32\n",
      "\n",
      "-- A*(h1) --\n",
      "['Vertical 5', 'Right 1', 'Vertical 1', 'Vertical 5']\n",
      "Nodes expanded: 345   Branching Factor:  4.02\n",
      "\n",
      "-- A*(h2) --\n",
      "['Vertical 5', 'Right 1', 'Vertical 1', 'Vertical 5']\n",
      "Nodes expanded: 402   Branching Factor:  4.19\n",
      "\n",
      "\n",
      "-------------- Generated Nodes -------------|-------- Effective Branching Factor --------\n",
      "   -Depth-      -IDS-   -A*(h1)-   -A*(h2)- |    -Depth-      -IDS-   -A*(h1)-   -A*(h2)-\n",
      "         1          1          1          1 |          1        1.0        1.0        1.0\n",
      "         2         14          3          3 |          2       3.27        1.3        1.3\n",
      "         3         48         20         92 |          3       3.25       2.31       4.14\n",
      "         4        345        308        406 |          4       4.02       3.89        4.2\n",
      "         5       4325       1806       2019 |          5       5.11       4.25       4.35\n",
      "         6      28569      15245      16745 |          6       5.34       4.79       4.87\n"
     ]
    }
   ],
   "source": [
    "def solveMasterBall(problem, search_function):\n",
    "    '''\n",
    "    This function receives a Masterball problem instance and a \n",
    "    search_function (IDS or A*S) and must return a list of actions that solve the problem.\n",
    "    '''\n",
    "    return search_function\n",
    "\n",
    "def getBranchFactor(N, depth):\n",
    "    array=[1]*(depth)\n",
    "    array.append(-N)\n",
    "    return np.roots(array).real[depth-1]\n",
    "\n",
    "\n",
    "problem = MasterballProblem([ [0, 4, 3, 2, 1, 5, 6, 7],\n",
    "                              [0, 3, 2, 1, 0, 5, 6, 7],\n",
    "                              [7, 4, 3, 2, 1, 4, 5, 6],\n",
    "                              [0, 4, 3, 2, 1, 5, 6, 7]])\n",
    "\n",
    "print '-- IDS --'\n",
    "solution=solveMasterBall(problem, iterativeDeepeningSearch(problem))\n",
    "print solution\n",
    "bf=round(getBranchFactor(problem.expanded, len(solution)),2)\n",
    "print 'Nodes expanded:', problem.expanded, '  Branching Factor: ', bf\n",
    "problem.reset()\n",
    "print '\\n-- A*(h1) --'\n",
    "solution=solveMasterBall(problem, aStarSearch(problem, myHeuristic1))\n",
    "print solution\n",
    "bf=round(getBranchFactor(problem.expanded, len(solution)),2)\n",
    "print 'Nodes expanded:', problem.expanded, '  Branching Factor: ', bf\n",
    "problem.reset()\n",
    "print '\\n-- A*(h2) --'\n",
    "solution=solveMasterBall(problem, aStarSearch(problem, myHeuristic2))\n",
    "print solution\n",
    "bf=round(getBranchFactor(problem.expanded, len(solution)),2)\n",
    "print 'Nodes expanded:', problem.expanded, '  Branching Factor: ', bf\n",
    "\n",
    "\n",
    "def masterballStateWithSolutionAtDepth(depth, problem):\n",
    "    state=[ [0, 1, 2, 3, 4, 5, 6, 7],\n",
    "            [0, 1, 2, 3, 4, 5, 6, 7],\n",
    "            [0, 1, 2, 3, 4, 5, 6, 7],\n",
    "            [0, 1, 2, 3, 4, 5, 6, 7] ]\n",
    "    actions=[]\n",
    "    for i in range(0, 4):\n",
    "        actions.append('Right- '+str(i))\n",
    "    for i in range(4, 8):\n",
    "        actions.append('Vertical '+str(i))\n",
    "    state=state.__str__()\n",
    "    act=''\n",
    "    for i in range(0, depth):\n",
    "        action = actions[randint(0,7)]\n",
    "        while action==act:\n",
    "            action = actions[randint(0,7)]\n",
    "        state=problem.makeMove(state, action)\n",
    "        act=action\n",
    "    return state\n",
    "\n",
    "\n",
    "labels = ['-Depth-','-IDS-', '-A*(h1)-', '-A*(h2)-']\n",
    "labels = labels+['|']+labels\n",
    "print '\\n\\n-------------- Generated Nodes -------------|-------- Effective Branching Factor --------'\n",
    "print('{0:>10} {1:>10} {2:>10} {3:>10} {4:1} {5:>10} {6:>10} {7:>10} {8:>10}'.format(*labels))\n",
    "\n",
    "for k in range(1,7):\n",
    "    column1=[]\n",
    "    column2=[]\n",
    "    column1.append(k)\n",
    "    column2.append(k)\n",
    "    problem.setStartState(masterballStateWithSolutionAtDepth(k,problem))\n",
    "    problem.reset()\n",
    "    \n",
    "    solveMasterBall(problem, iterativeDeepeningSearch(problem))\n",
    "    bf=round(getBranchFactor(problem.expanded, k),2)\n",
    "    column1.append(problem.expanded)\n",
    "    column2.append(bf)\n",
    "    problem.reset()\n",
    "    \n",
    "    solveMasterBall(problem, aStarSearch(problem, myHeuristic1))\n",
    "    bf=round(getBranchFactor(problem.expanded, k),2)\n",
    "    column1.append(problem.expanded)\n",
    "    column2.append(bf)\n",
    "    problem.reset()\n",
    "    \n",
    "    solveMasterBall(problem, aStarSearch(problem, myHeuristic2))\n",
    "    bf=round(getBranchFactor(problem.expanded, k),2)\n",
    "    column1.append(problem.expanded)\n",
    "    column2.append(bf)\n",
    "    \n",
    "    row = column1+['|']+column2\n",
    "    print('{0:10} {1:10} {2:10} {3:10} {4:1} {5:10} {6:10} {7:10} {8:10}'.format(*row))\n"
   ]
  }
 ],
 "metadata": {
  "kernelspec": {
   "display_name": "Python 2",
   "language": "python",
   "name": "python2"
  },
  "language_info": {
   "codemirror_mode": {
    "name": "ipython",
    "version": 2
   },
   "file_extension": ".py",
   "mimetype": "text/x-python",
   "name": "python",
   "nbconvert_exporter": "python",
   "pygments_lexer": "ipython2",
   "version": "2.7.10"
  }
 },
 "nbformat": 4,
 "nbformat_minor": 0
}
