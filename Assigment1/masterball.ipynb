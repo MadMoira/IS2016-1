{
 "cells": [
  {
   "cell_type": "markdown",
   "metadata": {},
   "source": [
    "# Intelligent Systems Assignment 1\n",
    "\n",
    "## Masterball solver\n",
    "\n",
    "**Name:**\n",
    "\n",
    "**ID:**\n"
   ]
  },
  {
   "cell_type": "markdown",
   "metadata": {},
   "source": [
    "### 1. Create a class to model the Masterball problem"
   ]
  },
  {
   "cell_type": "markdown",
   "metadata": {},
   "source": [
    "A Masterball must be represented as an array of arrays with integer values representing the color of the tile in each position:\n",
    "\n",
    "A solved masterball must look like this:\n",
    "\n",
    "```python\n",
    "[ [0, 1, 2, 3, 4, 5, 6, 7],\n",
    "  [0, 1, 2, 3, 4, 5, 6, 7],\n",
    "  [0, 1, 2, 3, 4, 5, 6, 7],\n",
    "  [0, 1, 2, 3, 4, 5, 6, 7]\n",
    "]\n",
    "```"
   ]
  },
  {
   "cell_type": "markdown",
   "metadata": {},
   "source": [
    "#### Variables modeling the actions"
   ]
  },
  {
   "cell_type": "code",
   "execution_count": null,
   "metadata": {
    "collapsed": false
   },
   "outputs": [],
   "source": [
    "from collections import deque\n",
    "from search_base import search_tree\n",
    "from util import Stack\n",
    "import copy\n",
    "import search\n",
    "import sys\n",
    "import time\n",
    "\n",
    "'''\n",
    "This variables MUST not be changed.\n",
    "They represent the movements of the masterball.\n",
    "'''\n",
    "R_0 = \"Right 0\"\n",
    "R_1 = \"Right 1\"\n",
    "R_2 = \"Right 2\"\n",
    "R_3 = \"Right 3\"\n",
    "\n",
    "V_0 = \"Vertical 0\"\n",
    "V_1 = \"Vertical 1\"\n",
    "V_2 = \"Vertical 2\"\n",
    "V_3 = \"Vertical 3\"\n",
    "V_4 = \"Vertical 4\"\n",
    "V_5 = \"Vertical 5\"\n",
    "V_6 = \"Vertical 6\"\n",
    "V_7 = \"Vertical 7\"\n"
   ]
  },
  {
   "cell_type": "markdown",
   "metadata": {},
   "source": [
    "`R_i` moves the `i`th row to the right. For instance, `R_2` applied to the solved state will produce:\n",
    "\n",
    "```python\n",
    "[ [0, 1, 2, 3, 4, 5, 6, 7],\n",
    "  [0, 1, 2, 3, 4, 5, 6, 7],\n",
    "  [7, 0, 1, 2, 3, 4, 5, 6],\n",
    "  [0, 1, 2, 3, 4, 5, 6, 7]\n",
    "]\n",
    "```\n",
    "\n",
    "`V_i` performs a clockwise vertical move starting with the `i`th column\n",
    "\n",
    "`V_1` applied to the above state will produce:\n",
    "\n",
    "```python\n",
    "[ [0, 4, 3, 2, 1, 5, 6, 7],\n",
    "  [0, 3, 2, 1, 0, 5, 6, 7],\n",
    "  [7, 4, 3, 2, 1, 4, 5, 6],\n",
    "  [0, 4, 3, 2, 1, 5, 6, 7]\n",
    "]\n",
    "```"
   ]
  },
  {
   "cell_type": "markdown",
   "metadata": {},
   "source": [
    "#### The Masterball problem class"
   ]
  },
  {
   "cell_type": "code",
   "execution_count": null,
   "metadata": {
    "collapsed": false
   },
   "outputs": [],
   "source": [
    "class MasterballProblem(search.SearchProblem):\n",
    "\n",
    "    def __init__(self, startState):\n",
    "        '''\n",
    "        Store the initial state in the problem representation and any useful\n",
    "        data.\n",
    "        Here are some examples of initial states:\n",
    "        [[0, 1, 4, 5, 6, 2, 3, 7], [0, 1, 3, 4, 5, 6, 3, 7], [1, 2, 4, 5, 6, 2, 7, 0], [0, 1, 4, 5, 6, 2, 3, 7]]\n",
    "        [[0, 7, 4, 5, 1, 6, 2, 3], [0, 7, 4, 5, 0, 5, 2, 3], [7, 6, 3, 4, 1, 6, 1, 2], [0, 7, 4, 5, 1, 6, 2, 3]]\n",
    "        [[0, 1, 6, 4, 5, 2, 3, 7], [0, 2, 6, 5, 1, 3, 4, 7], [0, 2, 6, 5, 1, 3, 4, 7], [0, 5, 6, 4, 1, 2, 3, 7]]\n",
    "        '''\n",
    "        self.initial = startState\n",
    "        self.expanded = 0\n",
    "\n",
    "    def isGoalState(self, state):\n",
    "        '''\n",
    "        Define when a given state is a goal state (A correctly colored masterball)\n",
    "        '''\n",
    "        for index in xrange(0,8):\n",
    "            if not (state[0][index] == state[1][index] == state[2][index] == state[3][index]):\n",
    "                return False\n",
    "        return True\n",
    "\n",
    "    def getStartState(self):\n",
    "        '''\n",
    "        Implement a method that returns the start state according to the SearchProblem\n",
    "        contract.\n",
    "        '''\n",
    "        return self.initial\n",
    "\n",
    "    def getSuccessors(self, state):\n",
    "        '''\n",
    "        Implement a successor function: Given a state from the masterball\n",
    "        return a list of the successors and their corresponding actions.\n",
    "\n",
    "        This method *must* return a list where each element is a tuple of\n",
    "        three elements with the state of the masterball in the first position,\n",
    "        the action (according to the definition above) in the second position,\n",
    "        and the cost of the action in the last position.\n",
    "\n",
    "        Note that you should not modify the state.\n",
    "        '''\n",
    "        actions = [R_0, R_1, R_2, R_3, V_0, V_1, V_2, V_3, V_4, V_5, V_6, V_7]\n",
    "\n",
    "        successors = []\n",
    "\n",
    "        for action in actions:\n",
    "            movement, column = action.split(' ')\n",
    "\n",
    "            new_state = copy.deepcopy(state)\n",
    "            if movement == 'Right':\n",
    "                moving_row = new_state[int(column)]\n",
    "                moving_row_deque = deque(moving_row)\n",
    "                moving_row_deque.rotate(1)\n",
    "                moving_row = list(moving_row_deque)\n",
    "\n",
    "                new_state[int(column)] = moving_row\n",
    "\n",
    "            if movement == 'Vertical':\n",
    "\n",
    "                if int(column) <= 3:\n",
    "                    ith = int(column)\n",
    "                    ith4 = int(column) + 4\n",
    "                else:\n",
    "                    ith = int(column)\n",
    "                    ith4 = int(column) - 4\n",
    "\n",
    "                temp_ith = []\n",
    "                temp_ith4 = []\n",
    "\n",
    "                for index in xrange(0,4):\n",
    "                    temp_ith.append(new_state[index][ith])\n",
    "                    temp_ith4.append(new_state[index][ith4])\n",
    "\n",
    "                temp_ith_deque = deque(temp_ith)\n",
    "                temp_ith4_deque = deque(temp_ith4)\n",
    "                temp_ith_deque.rotate(-1)\n",
    "                temp_ith4_deque.rotate(-1)\n",
    "                temp_ith = list(temp_ith_deque)\n",
    "                temp_ith4 = list(temp_ith4_deque)\n",
    "\n",
    "                for index in xrange(0,4):\n",
    "                    new_state[index][ith] = temp_ith4[index]\n",
    "                    new_state[index][ith4] = temp_ith[index]\n",
    "\n",
    "            successors.append((new_state, (state, action, new_state), 1))\n",
    "\n",
    "        self.expanded += 1\n",
    "\n",
    "        return successors"
   ]
  },
  {
   "cell_type": "markdown",
   "metadata": {},
   "source": [
    "### 2. Implement iterative deepening search\n",
    "\n",
    "Follow the example code provided in class and implement iterative deepening search (IDS)."
   ]
  },
  {
   "cell_type": "code",
   "execution_count": null,
   "metadata": {
    "collapsed": true
   },
   "outputs": [],
   "source": [
    "def getStringState(state):\n",
    "\n",
    "    stringed = ''\n",
    "\n",
    "    for row in state:\n",
    "        for element in row:\n",
    "            stringed += str(element)\n",
    "\n",
    "    return stringed\n",
    "\n",
    "def DepthLimitedSearch(problem, depth):\n",
    "    visited = {}\n",
    "    tree = search_tree()\n",
    "    state = problem.getStartState()\n",
    "    visited[getStringState(state)] = 'gray'\n",
    "    frontier = Stack()\n",
    "    frontier.push((state, [], 0))\n",
    "    while not frontier.isEmpty():\n",
    "        u, actions, current_depth = frontier.pop()\n",
    "        for v, action, cost in problem.getSuccessors(u):\n",
    "            mini_action = action[1]\n",
    "            stringed_state = getStringState(v)\n",
    "            if current_depth > depth:\n",
    "                break\n",
    "            if not getStringState(v) in visited:\n",
    "                tree.addEdge(getStringState(u), action[1], getStringState(v))\n",
    "                if problem.isGoalState(v):\n",
    "                    return actions + [action[1]], tree\n",
    "                visited[getStringState(v)] = 'gray'\n",
    "                frontier.push((v, actions + [action[1]], current_depth+1))\n",
    "        visited[getStringState(u)] = 'green'\n",
    "    return [], tree\n",
    "\n",
    "\n",
    "def iterativeDeepeningSearch(problem):\n",
    "\n",
    "    for i in xrange(sys.maxint):\n",
    "        start_time = time.time()\n",
    "        actions, tree = DepthLimitedSearch(problem, i)\n",
    "        print(\"Para profundidad \" + str(i) + \" el tiempo fue: \" + str(time.time() - start_time))\n",
    "        if len(actions) > 0:\n",
    "            return actions, tree, i\n",
    "        \n",
    "    return []\n",
    "\n",
    "def aStarSearch(problem, heuristic):\n",
    "    return []"
   ]
  },
  {
   "cell_type": "code",
   "execution_count": null,
   "metadata": {
    "collapsed": false
   },
   "outputs": [],
   "source": [
    "test_state_0 = [[0, 1, 4, 5, 6, 2, 3, 7],\n",
    "                [0, 1, 4, 5, 6, 2, 3, 7],\n",
    "                [1, 4, 5, 6, 2, 3, 7, 0],\n",
    "                [0, 1, 4, 5, 6, 2, 3, 7]]\n",
    "\n",
    "test_state_1 = [[0, 1, 4, 5, 6, 2, 3, 7],\n",
    "                [0, 1, 3, 4, 5, 6, 3, 7],\n",
    "                [1, 2, 4, 5, 6, 2, 7, 0],\n",
    "                [0, 1, 4, 5, 6, 2, 3, 7]]\n",
    "\n",
    "test_state_2 = [[0, 1, 2, 3, 4, 5, 6, 7],\n",
    "                [0, 1, 2, 3, 4, 5, 6, 7],\n",
    "                [7, 0, 1, 2, 3, 4, 5, 6],\n",
    "                [0, 1, 2, 3, 4, 5, 6, 7]]\n",
    "\n",
    "test_state_3 = [[0, 1, 2, 3, 4, 5, 6, 7],\n",
    "                [0, 1, 2, 3, 4, 5, 6, 7],\n",
    "                [0, 1, 2, 3, 4, 5, 6, 7],\n",
    "                [0, 1, 2, 3, 4, 5, 6, 7]]\n",
    "\n",
    "test_state_4 = [[4, 1, 2, 0, 3, 5, 6, 7],\n",
    "                [4, 1, 2, 0, 3, 5, 6, 7],\n",
    "                [4, 1, 2, 0, 3, 5, 6, 7],\n",
    "                [4, 1, 2, 0, 3, 5, 6, 7]]\n",
    "\n",
    "problem = MasterballProblem(test_state_1)\n",
    "\n",
    "actions, tree, depth = iterativeDeepeningSearch(problem)\n",
    "\n",
    "print(\"actions\")\n",
    "print(actions)\n",
    "print(depth)"
   ]
  },
  {
   "cell_type": "markdown",
   "metadata": {},
   "source": [
    "Evaluate it to see what is the maximum depth that it could explore in a reasonable time. Report the results. "
   ]
  },
  {
   "cell_type": "markdown",
   "metadata": {},
   "source": [
    "### 3. Implement different heuristics for the problem"
   ]
  },
  {
   "cell_type": "markdown",
   "metadata": {
    "collapsed": true
   },
   "source": [
    "Implement at least two admissible and consistent heuristics. Compare A* using the heuristics against IDS calculating the number of expanded nodes and the effective branching factor, in the same way as it is done in figure 3.29 of [Russell10]."
   ]
  },
  {
   "cell_type": "code",
   "execution_count": null,
   "metadata": {
    "collapsed": true
   },
   "outputs": [],
   "source": [
    "# def myHeuristic(state):\n",
    "#     return 0"
   ]
  },
  {
   "cell_type": "code",
   "execution_count": null,
   "metadata": {
    "collapsed": false
   },
   "outputs": [],
   "source": [
    "# def solveMasterBall(problem, search_function):\n",
    "#     '''\n",
    "#     This function receives a Masterball problem instance and a \n",
    "#     search_function (IDS or A*S) and must return a list of actions that solve the problem.\n",
    "#     '''\n",
    "#     return []\n",
    "\n",
    "\n",
    "# problem = MasterballProblem([ [0, 4, 3, 2, 1, 5, 6, 7],\n",
    "#                               [0, 3, 2, 1, 0, 5, 6, 7],\n",
    "#                               [7, 4, 3, 2, 1, 4, 5, 6],\n",
    "#                               [0, 4, 3, 2, 1, 5, 6, 7]])\n",
    "\n",
    "# print solveMasterBall(problem, iterativeDeepeningSearch(problem))\n",
    "# print solveMasterBall(problem, aStarSearch(problem, myHeuristic))"
   ]
  },
  {
   "cell_type": "code",
   "execution_count": null,
   "metadata": {
    "collapsed": true
   },
   "outputs": [],
   "source": []
  }
 ],
 "metadata": {
  "kernelspec": {
   "display_name": "Python 2",
   "language": "python",
   "name": "python2"
  },
  "language_info": {
   "codemirror_mode": {
    "name": "ipython",
    "version": 2
   },
   "file_extension": ".py",
   "mimetype": "text/x-python",
   "name": "python",
   "nbconvert_exporter": "python",
   "pygments_lexer": "ipython2",
   "version": "2.7.11"
  }
 },
 "nbformat": 4,
 "nbformat_minor": 0
}
