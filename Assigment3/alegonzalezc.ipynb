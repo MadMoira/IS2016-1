{
 "cells": [
  {
   "cell_type": "markdown",
   "metadata": {},
   "source": [
    "# Assignment 3\n",
    "\n",
    "## Machine Learning\n",
    "\n",
    "**Names:**\n",
    "\n",
    "Alexander Gonzalez Castañeda   -   Camilo Andrés Rodriguez\n",
    "\n",
    "**IDs:**\n",
    "\n",
    "1032452063 - \n",
    "\n",
    "### 1. Follow the Kaggle tutorial Titanic: Machine Learning from Disaster\n",
    "\n",
    "### 2. Train a Support Vector Machine\n",
    "\n",
    "### a) Ensure that the features are numerical and normalized ####"
   ]
  },
  {
   "cell_type": "code",
   "execution_count": 15,
   "metadata": {
    "collapsed": false
   },
   "outputs": [
    {
     "name": "stdout",
     "output_type": "stream",
     "text": [
      "Populating the interactive namespace from numpy and matplotlib\n"
     ]
    },
    {
     "name": "stderr",
     "output_type": "stream",
     "text": [
      "WARNING: pylab import has clobbered these variables: ['cm']\n",
      "`%matplotlib` prevents importing * from pylab and numpy\n"
     ]
    }
   ],
   "source": [
    "import matplotlib.pyplot as plt\n",
    "%pylab inline\n",
    "import pandas as pd\n",
    "import numpy as np\n",
    "\n",
    "df = pd.read_csv('train.csv', header=0)\n",
    "df2 = pd.read_csv('test.csv', header=0)\n",
    "\n",
    "df['Embarked'] = df['Embarked'].map( {'S': 1, 'C': 2, 'Q':3, None:2} ).astype(int)\n",
    "df['Sex'] = df['Sex'].map( {'female': 0, 'male': 1} ).astype(int)\n",
    "\n",
    "df2['Embarked'] = df2['Embarked'].map( {'S': 1, 'C': 2, 'Q':3, None:2} ).astype(int)\n",
    "df2['Sex'] = df2['Sex'].map( {'female': 0, 'male': 1} ).astype(int)\n",
    "\n",
    "median_ages = np.zeros((2,3))\n",
    "for i in range(0, 2):\n",
    "    for j in range(0, 3):\n",
    "        median_ages[i,j] = df[(df['Sex'] == i) & (df['Pclass'] == j+1)]['Age'].dropna().median()\n",
    "for i in range(0, 2):\n",
    "    for j in range(0, 3):\n",
    "        df.loc[ (df.Age.isnull()) & (df.Sex == i) & (df.Pclass == j+1), 'Age'] = median_ages[i,j]\n",
    "        \n",
    "for i in range(0, 2):\n",
    "    for j in range(0, 3):\n",
    "        median_ages[i,j] = df2[(df2['Sex'] == i) & (df2['Pclass'] == j+1)]['Age'].dropna().median()\n",
    "for i in range(0, 2):\n",
    "    for j in range(0, 3):\n",
    "        df2.loc[ (df2.Age.isnull()) & (df2.Sex == i) & (df2.Pclass == j+1), 'Age'] = median_ages[i,j]\n",
    "\n",
    "df['FamilySize'] = df['SibSp'] + df['Parch']\n",
    "df = df.drop(['Name', 'Ticket', 'Cabin'], axis=1)\n",
    "\n",
    "df2['FamilySize'] = df2['SibSp'] + df2['Parch']\n",
    "df2 = df2.drop(['Name', 'Ticket', 'Cabin'], axis=1)\n",
    "\n",
    "for label in ['Pclass', 'SibSp', 'Parch', 'Fare', 'Sex', 'Age', 'Embarked', 'FamilySize']:\n",
    "    df[label] = df[label].map(lambda x: df[label].mean() if np.isnan(x) else x)\n",
    "    df[label] = (df[label]-df[label].mean())/df[label].std()\n",
    "    \n",
    "    df2[label] = df2[label].map(lambda x: df2[label].mean() if np.isnan(x) else x)\n",
    "    df2[label] = (df2[label]-df2[label].mean())/df2[label].std()\n",
    "\n",
    "labels = df.drop(['PassengerId','Pclass','SibSp','Parch','Fare','Sex','Age','Embarked','FamilySize'],axis=1).values\n",
    "trainData = df.drop(['PassengerId', 'Survived'], axis=1).values\n",
    "labels = [item for sublist in labels for item in sublist]\n",
    "testData = df2.drop(['PassengerId'], axis=1).values\n",
    "df2=df2.drop(['Pclass', 'SibSp', 'Parch', 'Fare', 'Sex', 'Age', 'Embarked', 'FamilySize'], axis=1)"
   ]
  },
  {
   "cell_type": "markdown",
   "metadata": {},
   "source": [
    "### b) Use a RBF kernel. Explain what a RBF kernel is.\n",
    "\n",
    "The Radial Basis Function Kernel on two samples $x$ and $x'$, represented as feature vectors in some input space, is defined as:\n",
    "\n",
    "\\begin{equation*}\n",
    "k(x,x')=exp \\left(-\\frac{\\| x-x' \\|^{2}} {2\\sigma^{2}} \\right)\n",
    "\\end{equation*}\n",
    "\n",
    "Where $ \\| x-x' \\|^{2} $ is the squared Euclidean distance between the two feature vectors. $\\sigma$ is a free parameter. An equivalent, but simpler, definition involves a parameter:\n",
    "\n",
    "\\begin{equation*}\n",
    "\\gamma=\\frac{\\| x-x' \\|^{2}} {2\\sigma^{2}}\n",
    "\\end{equation*}\n",
    "\n",
    "\\begin{equation*}\n",
    "k(x,x')=exp \\left(- \\gamma\\| x-x' \\|^{2}  \\right)\n",
    "\\end{equation*}"
   ]
  },
  {
   "cell_type": "markdown",
   "metadata": {},
   "source": [
    "### c) Use 10-fold cross validation to find a good value for the hyper-parameters"
   ]
  },
  {
   "cell_type": "code",
   "execution_count": 16,
   "metadata": {
    "collapsed": false
   },
   "outputs": [
    {
     "name": "stdout",
     "output_type": "stream",
     "text": [
      "The best parameters are {'C': 101.59366732596484, 'gamma': 0.021411734136251939} with a score of 0.83\n"
     ]
    }
   ],
   "source": [
    "from sklearn import svm\n",
    "import numpy as np\n",
    "from sklearn.grid_search import GridSearchCV\n",
    "from sklearn.cross_validation import KFold\n",
    "\n",
    "C_range = np.logspace(-5, 10, num=10, base=2)\n",
    "gamma_range = np.logspace(-9, 10, num=12, base=2)\n",
    "\n",
    "param_grid = dict(gamma=gamma_range, C=C_range)\n",
    "SVM = GridSearchCV(svm.SVC(kernel='rbf'), param_grid=param_grid, cv=10)\n",
    "SVM.fit(trainData, labels)\n",
    "\n",
    "print(\"The best parameters are %s with a score of %0.2f\"\n",
    "      % (SVM.best_params_, SVM.best_score_))\n",
    "\n"
   ]
  },
  {
   "cell_type": "markdown",
   "metadata": {},
   "source": [
    "### d) Draw a plot with the performance for the different combination of hyper-parameter values"
   ]
  },
  {
   "cell_type": "code",
   "execution_count": 17,
   "metadata": {
    "collapsed": false
   },
   "outputs": [
    {
     "data": {
      "image/png": "[encoded data removed]",
      "text/plain": [
       "<matplotlib.figure.Figure at 0x10ddba6d0>"
      ]
     },
     "metadata": {},
     "output_type": "display_data"
    }
   ],
   "source": [
    "from sklearn.metrics import confusion_matrix\n",
    "from matplotlib.colors import Normalize\n",
    "\n",
    "class MidpointNormalize(Normalize):\n",
    "\n",
    "    def __init__(self, vmin=None, vmax=None, midpoint=None, clip=False):\n",
    "        self.midpoint = midpoint\n",
    "        Normalize.__init__(self, vmin, vmax, clip)\n",
    "\n",
    "    def __call__(self, value, clip=None):\n",
    "        x, y = [self.vmin, self.midpoint, self.vmax], [0, 0.5, 1]\n",
    "        return np.ma.masked_array(np.interp(value, x, y))\n",
    "\n",
    "def plot_confusion_matrix(cm=None, title='Confusion matrix', cmap=plt.cm.Blues, labelNames=None):\n",
    "    plt.imshow(cm, interpolation='nearest', cmap=cmap)\n",
    "    plt.title(title)\n",
    "    plt.colorbar()\n",
    "    tick_marks = np.arange(len(labelNames))\n",
    "    plt.xticks(tick_marks, labelNames, rotation=45)\n",
    "    plt.yticks(tick_marks, labelNames)\n",
    "    plt.tight_layout()\n",
    "    plt.ylabel('True label')\n",
    "    plt.xlabel('Predicted label')\n",
    "\n",
    "scores = [x[1] for x in SVM.grid_scores_]\n",
    "scores = np.array(scores).reshape(len(C_range), len(gamma_range))\n",
    "\n",
    "plt.figure(figsize=(8, 6))\n",
    "plt.subplots_adjust(left=.2, right=0.95, bottom=0.15, top=0.95)\n",
    "plt.imshow(scores, interpolation='nearest', cmap=plt.cm.hot, norm=MidpointNormalize(vmin=0.2, midpoint=0.92))\n",
    "plt.xlabel('gamma')\n",
    "plt.ylabel('C')\n",
    "plt.colorbar()\n",
    "plt.xticks(np.arange(len(gamma_range)), gamma_range, rotation=45)\n",
    "plt.yticks(np.arange(len(C_range)), C_range)\n",
    "plt.title('Validation accuracy')\n",
    "plt.show()"
   ]
  },
  {
   "cell_type": "markdown",
   "metadata": {},
   "source": [
    "### e) Report the results on the training dataset using a confusion matrix"
   ]
  },
  {
   "cell_type": "code",
   "execution_count": 18,
   "metadata": {
    "collapsed": false
   },
   "outputs": [
    {
     "name": "stdout",
     "output_type": "stream",
     "text": [
      "Confusion Matrix:\n",
      "[[524  25]\n",
      " [117 225]]\n"
     ]
    },
    {
     "data": {
      "image/png": "[encoded data removed]",
      "text/plain": [
       "<matplotlib.figure.Figure at 0x10b0d2510>"
      ]
     },
     "metadata": {},
     "output_type": "display_data"
    }
   ],
   "source": [
    "predictions = SVM.predict(trainData)\n",
    "\n",
    "cm = confusion_matrix(labels, predictions)\n",
    "print 'Confusion Matrix:'\n",
    "print cm\n",
    "plt.figure()\n",
    "plot_confusion_matrix(cm=cm, labelNames=['Nonsurvivor', 'Survivor'])\n",
    "\n",
    "predictions = SVM.predict(testData)\n",
    "\n",
    "df2['Survived']= predictions\n",
    "df2.to_csv('predictions.csv', index=False)"
   ]
  },
  {
   "cell_type": "markdown",
   "metadata": {},
   "source": [
    "### f) Submit the results to Kaggle and include a screenshot of your score and position.\n",
    "\n",
    "<img src=\"http://i.imgur.com/B7stQvr.png\" />"
   ]
  }
 ],
 "metadata": {
  "kernelspec": {
   "display_name": "Python 2",
   "language": "python",
   "name": "python2"
  },
  "language_info": {
   "codemirror_mode": {
    "name": "ipython",
    "version": 2
   },
   "file_extension": ".py",
   "mimetype": "text/x-python",
   "name": "python",
   "nbconvert_exporter": "python",
   "pygments_lexer": "ipython2",
   "version": "2.7.10"
  }
 },
 "nbformat": 4,
 "nbformat_minor": 0
}
