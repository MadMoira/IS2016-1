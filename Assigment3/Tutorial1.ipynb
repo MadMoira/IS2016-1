{
 "cells": [
  {
   "cell_type": "code",
   "execution_count": 1,
   "metadata": {
    "collapsed": true
   },
   "outputs": [],
   "source": [
    "import numpy as np\n",
    "import csv as csv"
   ]
  },
  {
   "cell_type": "code",
   "execution_count": 2,
   "metadata": {
    "collapsed": false
   },
   "outputs": [
    {
     "name": "stdout",
     "output_type": "stream",
     "text": [
      "[['1' '0' '3' ..., '7.25' '' 'S']\n",
      " ['2' '1' '1' ..., '71.2833' 'C85' 'C']\n",
      " ['3' '1' '3' ..., '7.925' '' 'S']\n",
      " ..., \n",
      " ['889' '0' '3' ..., '23.45' '' 'S']\n",
      " ['890' '1' '1' ..., '30' 'C148' 'C']\n",
      " ['891' '0' '3' ..., '7.75' '' 'Q']]\n",
      "Braund, Mr. Owen Harris\n"
     ]
    }
   ],
   "source": [
    "csv_file_object = csv.reader(open('train.csv', 'rb')) \n",
    "header = csv_file_object.next()  \n",
    "                                \n",
    "data=[]                          \n",
    "for row in csv_file_object:      \n",
    "    data.append(row)             \n",
    "data = np.array(data)\n",
    "print data\n",
    "print data[0,3]"
   ]
  },
  {
   "cell_type": "code",
   "execution_count": 3,
   "metadata": {
    "collapsed": false
   },
   "outputs": [
    {
     "name": "stdout",
     "output_type": "stream",
     "text": [
      "891\n",
      "342.0\n",
      "0.383838383838\n"
     ]
    }
   ],
   "source": [
    "# The size() function counts how many elements are in\n",
    "# in the array and sum() (as you would expects) sums up\n",
    "# the elements in the array.\n",
    "\n",
    "number_passengers = np.size(data[0::,1].astype(np.float))\n",
    "number_survived = np.sum(data[0::,1].astype(np.float))\n",
    "proportion_survivors = number_survived / number_passengers\n",
    "print number_passengers\n",
    "print number_survived\n",
    "print proportion_survivors"
   ]
  },
  {
   "cell_type": "code",
   "execution_count": 4,
   "metadata": {
    "collapsed": false
   },
   "outputs": [],
   "source": [
    "women_only_stats = data[0::,4] == \"female\" # This finds where all \n",
    "                                           # the elements in the gender\n",
    "                                           # column that equals “female”\n",
    "men_only_stats = data[0::,4] != \"female\"   # This finds where all the \n",
    "                                           # elements do not equal \n",
    "                                           # female (i.e. male)"
   ]
  },
  {
   "cell_type": "code",
   "execution_count": 5,
   "metadata": {
    "collapsed": false
   },
   "outputs": [
    {
     "name": "stdout",
     "output_type": "stream",
     "text": [
      "Proportion of women who survived is 0.742038216561\n",
      "Proportion of men who survived is 0.188908145581\n"
     ]
    }
   ],
   "source": [
    "# Using the index from above we select the females and males separately\n",
    "women_onboard = data[women_only_stats,1].astype(np.float)     \n",
    "men_onboard = data[men_only_stats,1].astype(np.float)\n",
    "\n",
    "# Then we finds the proportions of them that survived\n",
    "proportion_women_survived = np.sum(women_onboard) / np.size(women_onboard)  \n",
    "proportion_men_survived = np.sum(men_onboard) / np.size(men_onboard) \n",
    "\n",
    "# and then print it out\n",
    "print 'Proportion of women who survived is %s' % proportion_women_survived\n",
    "print 'Proportion of men who survived is %s' % proportion_men_survived"
   ]
  },
  {
   "cell_type": "code",
   "execution_count": 6,
   "metadata": {
    "collapsed": true
   },
   "outputs": [],
   "source": [
    "test_file = open('test.csv', 'rb')\n",
    "test_file_object = csv.reader(test_file)\n",
    "header = test_file_object.next()\n",
    "\n",
    "prediction_file = open(\"genderbasedmodel.csv\", \"wb\")\n",
    "prediction_file_object = csv.writer(prediction_file)"
   ]
  },
  {
   "cell_type": "code",
   "execution_count": 7,
   "metadata": {
    "collapsed": true
   },
   "outputs": [],
   "source": [
    "prediction_file_object.writerow([\"PassengerId\", \"Survived\"])\n",
    "for row in test_file_object:       # For each row in test.csv\n",
    "    if row[3] == 'female':         # is it a female, if yes then                                       \n",
    "        prediction_file_object.writerow([row[0],'1'])    # predict 1\n",
    "    else:                              # or else if male,       \n",
    "        prediction_file_object.writerow([row[0],'0'])    # predict 0\n",
    "test_file.close()\n",
    "prediction_file.close()"
   ]
  },
  {
   "cell_type": "markdown",
   "metadata": {},
   "source": [
    "# Pythonising the second submission"
   ]
  },
  {
   "cell_type": "code",
   "execution_count": 3,
   "metadata": {
    "collapsed": false
   },
   "outputs": [],
   "source": [
    "# So we add a ceiling\n",
    "fare_ceiling = 40\n",
    "# then modify the data in the Fare column to = 39, if it is greater or equal to the ceiling\n",
    "data[ data[0::,9].astype(np.float) >= fare_ceiling, 9 ] = fare_ceiling - 1.0\n",
    "\n",
    "fare_bracket_size = 10\n",
    "number_of_price_brackets = fare_ceiling / fare_bracket_size\n",
    "\n",
    "# I know there were 1st, 2nd and 3rd classes on board\n",
    "number_of_classes = 3\n",
    "\n",
    "# But it's better practice to calculate this from the data directly\n",
    "# Take the length of an array of unique values in column index 2\n",
    "number_of_classes = len(np.unique(data[0::,2])) \n",
    "\n",
    "# Initialize the survival table with all zeros\n",
    "survival_table = np.zeros((2, number_of_classes, number_of_price_brackets), float)"
   ]
  },
  {
   "cell_type": "code",
   "execution_count": 4,
   "metadata": {
    "collapsed": false
   },
   "outputs": [
    {
     "name": "stderr",
     "output_type": "stream",
     "text": [
      "C:\\Users\\Camilo\\Anaconda2\\lib\\site-packages\\numpy\\core\\_methods.py:59: RuntimeWarning: Mean of empty slice.\n",
      "  warnings.warn(\"Mean of empty slice.\", RuntimeWarning)\n",
      "C:\\Users\\Camilo\\Anaconda2\\lib\\site-packages\\numpy\\core\\_methods.py:70: RuntimeWarning: invalid value encountered in double_scalars\n",
      "  ret = ret.dtype.type(ret / rcount)\n"
     ]
    }
   ],
   "source": [
    "for i in xrange(number_of_classes):\n",
    "    for j in xrange(number_of_price_brackets):\n",
    "        women_only_stats = data[(data[0::,4] == \"female\") &\n",
    "                                (data[0::,2].astype(np.float) == i+1) &\n",
    "                                (data[0:,9].astype(np.float) >= j*fare_bracket_size) &\n",
    "                                (data[0:,9].astype(np.float) < (j+1)*fare_bracket_size)\n",
    "                                ,1]                        \n",
    "\n",
    "        men_only_stats = data[(data[0::,4] != \"female\") &\n",
    "                              (data[0::,2].astype(np.float) == i+1)&\n",
    "                              (data[0:,9].astype(np.float) >= j*fare_bracket_size)&\n",
    "                              (data[0:,9].astype(np.float) < (j+1)*fare_bracket_size)\n",
    "                              ,1]\n",
    "        survival_table[0,i,j] = np.mean(women_only_stats.astype(np.float)) \n",
    "        survival_table[1,i,j] = np.mean(men_only_stats.astype(np.float))"
   ]
  },
  {
   "cell_type": "code",
   "execution_count": 5,
   "metadata": {
    "collapsed": false
   },
   "outputs": [
    {
     "name": "stdout",
     "output_type": "stream",
     "text": [
      "[[[ 0.          0.          0.83333333  0.97727273]\n",
      "  [ 0.          0.91428571  0.9         1.        ]\n",
      "  [ 0.59375     0.58139535  0.33333333  0.125     ]]\n",
      "\n",
      " [[ 0.          0.          0.4         0.38372093]\n",
      "  [ 0.          0.15873016  0.16        0.21428571]\n",
      "  [ 0.11153846  0.23684211  0.125       0.24      ]]]\n"
     ]
    }
   ],
   "source": [
    "survival_table[ survival_table != survival_table ] = 0.\n",
    "print(survival_table)"
   ]
  },
  {
   "cell_type": "code",
   "execution_count": 6,
   "metadata": {
    "collapsed": false
   },
   "outputs": [
    {
     "name": "stdout",
     "output_type": "stream",
     "text": [
      "[[[ 0.  0.  1.  1.]\n",
      "  [ 0.  1.  1.  1.]\n",
      "  [ 1.  1.  0.  0.]]\n",
      "\n",
      " [[ 0.  0.  0.  0.]\n",
      "  [ 0.  0.  0.  0.]\n",
      "  [ 0.  0.  0.  0.]]]\n"
     ]
    }
   ],
   "source": [
    "survival_table[ survival_table < 0.5 ] = 0\n",
    "survival_table[ survival_table >= 0.5 ] = 1 \n",
    "print(survival_table)"
   ]
  },
  {
   "cell_type": "code",
   "execution_count": 9,
   "metadata": {
    "collapsed": false
   },
   "outputs": [
    {
     "name": "stderr",
     "output_type": "stream",
     "text": [
      "C:\\Users\\Camilo\\Anaconda2\\lib\\site-packages\\ipykernel\\__main__.py:34: DeprecationWarning: using a non-integer number instead of an integer will result in an error in the future\n",
      "C:\\Users\\Camilo\\Anaconda2\\lib\\site-packages\\ipykernel\\__main__.py:32: DeprecationWarning: using a non-integer number instead of an integer will result in an error in the future\n"
     ]
    }
   ],
   "source": [
    "test_file = open('test.csv', 'rb')\n",
    "test_file_object = csv.reader(test_file)\n",
    "header = test_file_object.next()\n",
    "\n",
    "predictions_file = open(\"genderclassmodel.csv\", \"wb\")\n",
    "p = csv.writer(predictions_file)\n",
    "p.writerow([\"PassengerId\", \"Survived\"])\n",
    "\n",
    "for row in test_file_object:\n",
    "    for j in xrange(number_of_price_brackets):\n",
    "        # If there is no fare then place the price of the ticket according to class\n",
    "        try:\n",
    "            row[8] = float(row[8])    # No fare recorded will come up as a string so\n",
    "                                      # try to make it a float\n",
    "        except:                       # If fails then just bin the fare according to the class\n",
    "            bin_fare = 3 - float(row[1])\n",
    "            break                     # Break from the loop and move to the next row\n",
    "        if row[8] > fare_ceiling:     # Otherwise now test to see if it is higher\n",
    "                                      # than the fare ceiling we set earlier\n",
    "            bin_fare = number_of_price_brackets - 1\n",
    "            break                     # And then break to the next row\n",
    "\n",
    "        if row[8] >= j*fare_bracket_size\\\n",
    "            and row[8] < (j+1)*fare_bracket_size:     # If passed these tests then loop through\n",
    "                                                      # each bin until you find the right one\n",
    "                                                      # append it to the bin_fare\n",
    "                                                      # and move to the next loop\n",
    "            bin_fare = j\n",
    "            break\n",
    "        # Now I have the binned fare, passenger class, and whether female or male, we can\n",
    "        # just cross ref their details with our survival table\n",
    "    if row[3] == 'female':\n",
    "        p.writerow([row[0], \"%d\" % int(survival_table[ 0, float(row[1]) - 1, bin_fare ])])\n",
    "    else:\n",
    "        p.writerow([row[0], \"%d\" % int(survival_table[ 1, float(row[1]) - 1, bin_fare])])\n",
    "\n"
   ]
  },
  {
   "cell_type": "code",
   "execution_count": 10,
   "metadata": {
    "collapsed": true
   },
   "outputs": [],
   "source": [
    "# Close out the files\n",
    "test_file.close()\n",
    "predictions_file.close()"
   ]
  },
  {
   "cell_type": "code",
   "execution_count": null,
   "metadata": {
    "collapsed": true
   },
   "outputs": [],
   "source": []
  }
 ],
 "metadata": {
  "kernelspec": {
   "display_name": "Python 2",
   "language": "python",
   "name": "python2"
  },
  "language_info": {
   "codemirror_mode": {
    "name": "ipython",
    "version": 2
   },
   "file_extension": ".py",
   "mimetype": "text/x-python",
   "name": "python",
   "nbconvert_exporter": "python",
   "pygments_lexer": "ipython2",
   "version": "2.7.11"
  }
 },
 "nbformat": 4,
 "nbformat_minor": 0
}
