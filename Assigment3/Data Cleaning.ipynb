{
 "cells": [
  {
   "cell_type": "code",
   "execution_count": 11,
   "metadata": {
    "collapsed": false
   },
   "outputs": [],
   "source": [
    "%matplotlib inline\n",
    "# Import libraries\n",
    "import pandas as pd\n",
    "import numpy as np\n",
    "import pylab as P\n",
    "import matplotlib.pyplot as plt\n",
    "import matplotlib\n",
    "matplotlib.style.use('ggplot')"
   ]
  },
  {
   "cell_type": "code",
   "execution_count": 12,
   "metadata": {
    "collapsed": false
   },
   "outputs": [
    {
     "name": "stdout",
     "output_type": "stream",
     "text": [
      "<class 'pandas.core.frame.DataFrame'>\n",
      "RangeIndex: 891 entries, 0 to 890\n",
      "Data columns (total 12 columns):\n",
      "PassengerId    891 non-null int64\n",
      "Survived       891 non-null int64\n",
      "Pclass         891 non-null int64\n",
      "Name           891 non-null object\n",
      "Sex            891 non-null object\n",
      "Age            714 non-null float64\n",
      "SibSp          891 non-null int64\n",
      "Parch          891 non-null int64\n",
      "Ticket         891 non-null object\n",
      "Fare           891 non-null float64\n",
      "Cabin          204 non-null object\n",
      "Embarked       889 non-null object\n",
      "dtypes: float64(2), int64(5), object(5)\n",
      "memory usage: 83.6+ KB\n",
      "None\n"
     ]
    }
   ],
   "source": [
    "# Load Data\n",
    "df = pd.read_csv('train.csv', header=0)\n",
    "print(df.info())\n",
    "\n",
    "# PassengerId\n",
    "# Survived\n",
    "# Pclass\n",
    "# Name\n",
    "# Sex\n",
    "# Age\n",
    "# SibSp\n",
    "# Parch\n",
    "# Ticket\n",
    "# Fare\n",
    "# Cabin\n",
    "# Embarked"
   ]
  },
  {
   "cell_type": "code",
   "execution_count": 13,
   "metadata": {
    "collapsed": false
   },
   "outputs": [],
   "source": [
    "df = df.drop(['Name', 'Ticket', 'Cabin'], axis=1)\n",
    "\n",
    "# We dropped the name, ticket and cabin because we don't consider that they have a true value\n",
    "# in the prediction model. Name is really hard to enumerate, cabin have to many null values\n",
    "# and we don't have enough information about ticket\n",
    "\n",
    "# Sex enumerate as Gender\n",
    "# Fix null values of age\n",
    "# Fix null values of embarked"
   ]
  },
  {
   "cell_type": "code",
   "execution_count": 14,
   "metadata": {
    "collapsed": false
   },
   "outputs": [],
   "source": [
    "# Numeralize Sex as female = 0 and male = 1\n",
    "df['Gender'] = df['Sex'].map( {'female': 0, 'male': 1} ).astype(int)"
   ]
  },
  {
   "cell_type": "code",
   "execution_count": 15,
   "metadata": {
    "collapsed": false
   },
   "outputs": [
    {
     "name": "stdout",
     "output_type": "stream",
     "text": [
      "<class 'pandas.core.frame.DataFrame'>\n",
      "RangeIndex: 891 entries, 0 to 890\n",
      "Data columns (total 11 columns):\n",
      "PassengerId    891 non-null int64\n",
      "Survived       891 non-null int64\n",
      "Pclass         891 non-null int64\n",
      "Sex            891 non-null object\n",
      "Age            714 non-null float64\n",
      "SibSp          891 non-null int64\n",
      "Parch          891 non-null int64\n",
      "Fare           891 non-null float64\n",
      "Embarked       889 non-null object\n",
      "Gender         891 non-null int32\n",
      "AgeFill        891 non-null float64\n",
      "dtypes: float64(3), int32(1), int64(5), object(2)\n",
      "memory usage: 73.2+ KB\n",
      "None\n"
     ]
    }
   ],
   "source": [
    "# Fix empty values for age based on PClass and Gender\n",
    "median_ages = np.zeros((2,3))\n",
    "\n",
    "for i in range(0, 2):\n",
    "    for j in range(0, 3):\n",
    "        median_ages[i,j] = df[(df['Gender'] == i) & (df['Pclass'] == j+1)]['Age'].dropna().median()\n",
    "\n",
    "# print median_ages\n",
    "        \n",
    "df['AgeFill'] = df['Age']\n",
    "\n",
    "for i in range(0, 2):\n",
    "    for j in range(0, 3):\n",
    "        df.loc[(df.Age.isnull()) & (df.Gender == i) & (df.Pclass == j+1),'AgeFill'] = median_ages[i,j]\n",
    "print(df.info())"
   ]
  },
  {
   "cell_type": "code",
   "execution_count": 16,
   "metadata": {
    "collapsed": false
   },
   "outputs": [
    {
     "data": {
      "text/html": [
       "<div>\n",
       "<table border=\"1\" class=\"dataframe\">\n",
       "  <thead>\n",
       "    <tr style=\"text-align: right;\">\n",
       "      <th></th>\n",
       "      <th>PassengerId</th>\n",
       "      <th>Survived</th>\n",
       "      <th>Pclass</th>\n",
       "      <th>Sex</th>\n",
       "      <th>Age</th>\n",
       "      <th>SibSp</th>\n",
       "      <th>Parch</th>\n",
       "      <th>Fare</th>\n",
       "      <th>Embarked</th>\n",
       "      <th>Gender</th>\n",
       "      <th>AgeFill</th>\n",
       "    </tr>\n",
       "  </thead>\n",
       "  <tbody>\n",
       "    <tr>\n",
       "      <th>61</th>\n",
       "      <td>62</td>\n",
       "      <td>1</td>\n",
       "      <td>1</td>\n",
       "      <td>female</td>\n",
       "      <td>38.0</td>\n",
       "      <td>0</td>\n",
       "      <td>0</td>\n",
       "      <td>80.0</td>\n",
       "      <td>NaN</td>\n",
       "      <td>0</td>\n",
       "      <td>38.0</td>\n",
       "    </tr>\n",
       "    <tr>\n",
       "      <th>829</th>\n",
       "      <td>830</td>\n",
       "      <td>1</td>\n",
       "      <td>1</td>\n",
       "      <td>female</td>\n",
       "      <td>62.0</td>\n",
       "      <td>0</td>\n",
       "      <td>0</td>\n",
       "      <td>80.0</td>\n",
       "      <td>NaN</td>\n",
       "      <td>0</td>\n",
       "      <td>62.0</td>\n",
       "    </tr>\n",
       "  </tbody>\n",
       "</table>\n",
       "</div>"
      ],
      "text/plain": [
       "     PassengerId  Survived  Pclass     Sex   Age  SibSp  Parch  Fare Embarked  \\\n",
       "61            62         1       1  female  38.0      0      0  80.0      NaN   \n",
       "829          830         1       1  female  62.0      0      0  80.0      NaN   \n",
       "\n",
       "     Gender  AgeFill  \n",
       "61        0     38.0  \n",
       "829       0     62.0  "
      ]
     },
     "execution_count": 16,
     "metadata": {},
     "output_type": "execute_result"
    }
   ],
   "source": [
    "df[(df['PassengerId'] == 62) | (df['PassengerId'] == 830)]\n",
    "# The two passengers without information about embarked have a passenger class 1 with a fare\n",
    "# of 80.0"
   ]
  },
  {
   "cell_type": "code",
   "execution_count": 17,
   "metadata": {
    "collapsed": false
   },
   "outputs": [
    {
     "name": "stdout",
     "output_type": "stream",
     "text": [
      "['S' 'C' 'Q' nan]\n",
      "[[ 52.      78.2667  90.    ]\n",
      " [ 13.5     24.      12.35  ]\n",
      " [  8.05     7.8958   7.75  ]]\n"
     ]
    }
   ],
   "source": [
    "# Fix Empty values in data set for Embarked and numeralize as 'C' = 0, 'Q' = 1, 'S': 2\n",
    "embarked_categories = df['Embarked'].unique()\n",
    "embarked_frequencies = np.zeros((2,3,len(embarked_categories)-1))\n",
    "embarked_fares = np.zeros((3, len(embarked_categories)-1))\n",
    "\n",
    "for i in range(1, 4):\n",
    "    for j in range(0, len(embarked_categories)-1):\n",
    "        embarked_fares[i-1, j] = df[(df['Pclass'] == i) &\n",
    "                                    (df['PassengerId'] != 62) &\n",
    "                                    (df['PassengerId'] != 830) &\n",
    "                                    (df['Embarked'] == embarked_categories[j])\n",
    "                                   ]['Fare'].median()\n",
    "print(embarked_categories)\n",
    "print(embarked_fares)\n",
    "\n",
    "# Based on the median of the embarked_fares, we can say that the two passengers that payed\n",
    "# for a class 1 with 80 of fare should have been embarked from the 'C' port\n",
    "\n",
    "df['EmbarkedFill'] = df['Embarked']\n",
    "df.loc[(df['PassengerId'] == 62), 'EmbarkedFill'] = 'C'\n",
    "df.loc[(df['PassengerId'] == 830), 'EmbarkedFill'] = 'C'\n",
    "df['Port'] = df['EmbarkedFill'].map( {'C': 0, 'Q': 1, 'S': 2} ).astype(int)"
   ]
  },
  {
   "cell_type": "markdown",
   "metadata": {},
   "source": [
    "# Sample the 70%-30% of the data\n",
    "\n",
    "The sample is divided in 2 parts, train and test data, leave a copy of test (validation) for evaluation purposes"
   ]
  },
  {
   "cell_type": "code",
   "execution_count": 18,
   "metadata": {
    "collapsed": false
   },
   "outputs": [],
   "source": [
    "# For cabin with can't do too much, we don't know if the passengers with empty value \n",
    "# had no cabin or the value is missing\n",
    "\n",
    "# divide the data between an train dataset and a test dataset\n",
    "\n",
    "data_labels = ['PassengerId', 'Pclass', 'SibSp', 'Parch', 'Fare', 'Gender', 'AgeFill', 'Port']\n",
    "target_labels = ['PassengerId', 'Survived']\n",
    "\n",
    "from sklearn.cross_validation import train_test_split\n",
    "\n",
    "X_train, X_test, Y_train, Y_test = train_test_split(df[data_labels], df[target_labels], test_size=.3)"
   ]
  },
  {
   "cell_type": "markdown",
   "metadata": {},
   "source": [
    "# Random Forest"
   ]
  },
  {
   "cell_type": "code",
   "execution_count": 20,
   "metadata": {
    "collapsed": false
   },
   "outputs": [
    {
     "name": "stdout",
     "output_type": "stream",
     "text": [
      "26 0.839552238806\n"
     ]
    }
   ],
   "source": [
    "from sklearn.ensemble import RandomForestClassifier\n",
    "\n",
    "max_score = 0\n",
    "best_n = 0\n",
    "\n",
    "for n in range(1, 50):\n",
    "    rf_score = 0\n",
    "    model = RandomForestClassifier(n_estimators = n)\n",
    "    model = model.fit(X_train.values[0:, 1:], Y_train.values[0:, 1])\n",
    "    rf_score = model.score(X_test.values[0:, 1:], Y_test.values[0:, 1])\n",
    "    \n",
    "    if rf_score > max_score:\n",
    "        max_score = rf_score\n",
    "        best_n = n\n",
    "\n",
    "print(best_n, max_score)"
   ]
  },
  {
   "cell_type": "code",
   "execution_count": 21,
   "metadata": {
    "collapsed": false
   },
   "outputs": [
    {
     "name": "stdout",
     "output_type": "stream",
     "text": [
      "28 0.84328358209\n"
     ]
    }
   ],
   "source": [
    "from sklearn.ensemble import RandomForestClassifier\n",
    "\n",
    "max_score = 0\n",
    "best_depth = 0\n",
    "\n",
    "for n in range(1, 100):\n",
    "    rf_score = 0\n",
    "    model = RandomForestClassifier(max_depth=n)\n",
    "    model = model.fit(X_train.values[0:, 1:], Y_train.values[0:, 1])\n",
    "    rf_score = model.score(X_test.values[0:, 1:], Y_test.values[0:, 1])\n",
    "    \n",
    "    if rf_score > max_score:\n",
    "        max_score = rf_score\n",
    "        best_depth = n\n",
    "        \n",
    "print(best_depth, max_score)"
   ]
  },
  {
   "cell_type": "code",
   "execution_count": 32,
   "metadata": {
    "collapsed": false
   },
   "outputs": [
    {
     "name": "stdout",
     "output_type": "stream",
     "text": [
      "0.809701492537\n",
      "[[129  25]\n",
      " [ 26  88]]\n",
      "[ 0.          0.16233766  1.        ] [ 0.          0.77192982  1.        ] 0.804796081112\n"
     ]
    },
    {
     "data": {
      "image/png": "[encoded data removed]",
      "text/plain": [
       "<matplotlib.figure.Figure at 0x1ed56bc4550>"
      ]
     },
     "metadata": {},
     "output_type": "display_data"
    }
   ],
   "source": [
    "from sklearn.ensemble import RandomForestClassifier\n",
    "from sklearn.metrics import confusion_matrix\n",
    "from sklearn.metrics import roc_curve, auc\n",
    "\n",
    "best_n = 26\n",
    "best_depth = 28\n",
    "\n",
    "model = RandomForestClassifier(n_estimators=best_n, max_depth=best_depth)\n",
    "model = model.fit(X_train.values[0:, 1:], Y_train.values[0:, 1])\n",
    "output = model.predict(X_test.values[0:, 1:])\n",
    "prob_output = model.predict_proba(X_test.values[0:, 1:])\n",
    "rf_score = model.score(X_test.values[0:, 1:], Y_test.values[0:, 1])\n",
    "\n",
    "rf_cm = confusion_matrix(Y_test.values[0:, 1], output.astype(int))\n",
    "print(rf_score)\n",
    "print(rf_cm)\n",
    "\n",
    "fpr, tpr, _ = roc_curve(Y_test.values[0:, 1], output.astype(int))\n",
    "roc_auc = auc(fpr, tpr)\n",
    "print(fpr, tpr, roc_auc)\n",
    "\n",
    "plt.figure()\n",
    "plt.plot(fpr, tpr, label='ROC curve (area = %0.2f)' % roc_auc)\n",
    "plt.plot([0, 1], [0, 1], 'k--')\n",
    "plt.xlim([0.0, 1.1])\n",
    "plt.ylim([0.0, 1.1])\n",
    "plt.xlabel('False Positive Rate')\n",
    "plt.ylabel('True Positive Rate')\n",
    "plt.title('Receiver operating characteristic example')\n",
    "plt.legend(loc=\"lower right\")\n",
    "plt.show()\n"
   ]
  },
  {
   "cell_type": "markdown",
   "metadata": {},
   "source": [
    "# Naive Bayes GaussianNB"
   ]
  },
  {
   "cell_type": "code",
   "execution_count": 59,
   "metadata": {
    "collapsed": false
   },
   "outputs": [
    {
     "name": "stdout",
     "output_type": "stream",
     "text": [
      "0.791044776119\n",
      "[[145  24]\n",
      " [ 32  67]]\n"
     ]
    }
   ],
   "source": [
    "from sklearn.naive_bayes import GaussianNB\n",
    "from sklearn.metrics import confusion_matrix\n",
    "\n",
    "model = GaussianNB()\n",
    "model = model.fit(X_train.values[0:, 1:], Y_train.values[0:, 1])\n",
    "output = model.predict(X_test.values[0:, 1:])\n",
    "gnb_score = model.score(X_test.values[0:, 1:], Y_test.values[0:, 1])\n",
    "\n",
    "gnb_cm = confusion_matrix(Y_test.values[0:, 1], output.astype(int))\n",
    "print gnb_score\n",
    "print gnb_cm"
   ]
  },
  {
   "cell_type": "markdown",
   "metadata": {},
   "source": [
    "# Naive Bayes MultinomialNB"
   ]
  },
  {
   "cell_type": "code",
   "execution_count": 58,
   "metadata": {
    "collapsed": false
   },
   "outputs": [
    {
     "name": "stdout",
     "output_type": "stream",
     "text": [
      "0.664179104478\n",
      "[[136  33]\n",
      " [ 57  42]]\n"
     ]
    }
   ],
   "source": [
    "from sklearn.naive_bayes import MultinomialNB\n",
    "from sklearn.metrics import confusion_matrix\n",
    "\n",
    "model = MultinomialNB()\n",
    "model = model.fit(X_train.values[0:, 1:], Y_train.values[0:, 1])\n",
    "output = model.predict(X_test.values[0:, 1:])\n",
    "mnb_score = model.score(X_test.values[0:, 1:], Y_test.values[0:, 1])\n",
    "\n",
    "mnb_cm = confusion_matrix(Y_test.values[0:, 1], output.astype(int))\n",
    "print mnb_score\n",
    "print mnb_cm"
   ]
  },
  {
   "cell_type": "markdown",
   "metadata": {},
   "source": [
    "# Naive Bayes Bernoulli"
   ]
  },
  {
   "cell_type": "code",
   "execution_count": 57,
   "metadata": {
    "collapsed": false
   },
   "outputs": [
    {
     "name": "stdout",
     "output_type": "stream",
     "text": [
      "0.757462686567\n",
      "[[142  27]\n",
      " [ 38  61]]\n"
     ]
    }
   ],
   "source": [
    "from sklearn.naive_bayes import BernoulliNB\n",
    "from sklearn.metrics import confusion_matrix\n",
    "\n",
    "model = BernoulliNB()\n",
    "model = model.fit(X_train.values[0:, 1:], Y_train.values[0:, 1])\n",
    "output = model.predict(X_test.values[0:, 1:])\n",
    "bnb_score = model.score(X_test.values[0:, 1:], Y_test.values[0:, 1])\n",
    "\n",
    "\n",
    "bnb_cm = confusion_matrix(Y_test.values[0:, 1], output.astype(int))\n",
    "print bnb_score\n",
    "print bnb_cm"
   ]
  }
 ],
 "metadata": {
  "kernelspec": {
   "display_name": "Python 3",
   "language": "python",
   "name": "python3"
  },
  "language_info": {
   "codemirror_mode": {
    "name": "ipython",
    "version": 3
   },
   "file_extension": ".py",
   "mimetype": "text/x-python",
   "name": "python",
   "nbconvert_exporter": "python",
   "pygments_lexer": "ipython3",
   "version": "3.5.1"
  }
 },
 "nbformat": 4,
 "nbformat_minor": 0
}
